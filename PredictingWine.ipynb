{
 "cells": [
  {
   "cell_type": "markdown",
   "metadata": {},
   "source": [
    "## Assessment 2: Predict Wine Taste Preferences with Logistic Regression\n",
    "\n",
    "\n",
    "The scope of this analysis is to investigate some data relating to wine taste preferences using different logistic regression methods.  Wine taste will be classified as either \"Good\" or \"Bad\" based on the variables within the dataset.  \n",
    "\n",
    "Before attempting any regression analysis, we will begin by exploring the data.\n",
    "\n",
    "\n",
    "### Background: \n",
    "The chemical test data were collected from May 2004 to February 2007. The dataset contains 11 variables (or predictors), each of which corresponds to a chemical test. They are fixed acidity, volatile acidity, citric acid, residual sugar, chlorides, free sulfur dioxide, total sulfur dioxide, density, pH, sulfates, and alcohol. In regard to the wine preferences (named quality in the dataset), each sample was originally graded on a scale that ranges from 0 (very bad) to 10 (very good) by at least three sensory assessors. The quality has been converted to a binary variable, which takes on values of 'good' and 'bad'.\n",
    "\n",
    "### Attributes: \n",
    "\n",
    "Each taste record contains the following attributes.  Information about each attribute and its impact on the taste has been obtained from University of California (2004), Wikipedia (2017) and the Australian Wine Research Institute (2017). \n",
    "\n",
    ">**Fixed acidity:** Acid can often contribute to the taste of wine.  Wines lacking in acid are flat.  Winemakers are often aiming for a high acidity to add to the flavour of their wine.  \n",
    "\n",
    ">**Volatile acidity:** Volatile acidity refers to the steam distillable acids present in wine, primarily acetic acid but also lactic, formic, butyric, and propionic acids.  Wikipedia's article - Acids in wine (2017) refers to Volatile acidity as a wine fault. \n",
    "\n",
    ">**Citric acid:** Citric acid is common in fruits, but not in grapes.  The citric acid in wine is added as a supplement from fermenting sugar solutions.  These are inexpensive and often used by winemakers to boost the wine's total acidity.  \n",
    "\n",
    ">**Residual sugar:** The residual sugar can impact the sweetness of the taste of wine.  \n",
    "\n",
    ">**Chlorides:** In wine - chlorides are the biggest influence on the saltiness of the wine.  \n",
    "\n",
    ">**Free sulfur dioxide:** Sulfur dioxide is used for preserving wine.  Winemakers balance sulfur dioxide levels with acid levels.  The more acidic the wine, the less sulfur dioxide it is likely to contain.  \n",
    "\n",
    ">**Total sulfur dioxide:** Only free sulfur dioxide is good for wine preservation.  Winemakers are aiming to have increased concentration of free sulfur dioxide in their wine.  \n",
    "\n",
    ">**Density:** Wines are complex and can differ greatly in their density.  \n",
    "\n",
    ">**pH:** The pH of wine is a measure of the strength and concentration of the dissociated acids present in that medium.\n",
    "\n",
    ">**Sulphates:** Sulphuric salts that are used to extend the life of wine, and for cleaning in the winery.\n",
    "\n",
    ">**Alcohol:** As relative alcohol concentration increases, so does the perceived warmth or hotness of wine.  Ethanol also increases the perception of biterness in both white and red wines.\n",
    "\n",
    ">**Quality:** The quality of the wine converted to a binary value - \"Good\" and \"Bad\".  Was originally recorded as a scale from 0 to 10.\n",
    "\n",
    "\n",
    "### Read and clean raw data:\n",
    "\n",
    "The dataset has been separated into training and testing data sets.  The data exploration will be performed on the training set as the testing data set will be reserved for testing the predictor model.  However, we will load both data sets into this notebook.  The data is formatted in CSV format, so we will read data with read.csv"
   ]
  },
  {
   "cell_type": "code",
   "execution_count": 1,
   "metadata": {
    "collapsed": true
   },
   "outputs": [],
   "source": [
    "train <- read.csv('Wine_training_dataset_2017.csv', header = TRUE, sep = ',') # Data is loaded from the same folder the notebook is in.\n",
    "test <- read.csv('Wine_testing_dataset_2017.csv', header = TRUE, sep = ',')"
   ]
  },
  {
   "cell_type": "code",
   "execution_count": 2,
   "metadata": {},
   "outputs": [
    {
     "name": "stderr",
     "output_type": "stream",
     "text": [
      "Loading required package: gplots\n",
      "\n",
      "Attaching package: 'gplots'\n",
      "\n",
      "The following object is masked from 'package:stats':\n",
      "\n",
      "    lowess\n",
      "\n",
      "\n",
      "Attaching package: 'ggplot2'\n",
      "\n",
      "The following objects are masked from 'package:psych':\n",
      "\n",
      "    %+%, alpha\n",
      "\n",
      "Loading required package: Matrix\n",
      "Loading required package: foreach\n",
      "Loaded glmnet 2.0-10\n",
      "\n",
      "Loading required package: MASS\n",
      "Loading required package: caret\n",
      "Loading required package: lattice\n"
     ]
    }
   ],
   "source": [
    "#libraries\n",
    "library(ROCR)\n",
    "library(psych) #psych library is used for descriptive statistics\n",
    "library(gridExtra) # Loading gridExtra for pretty tables and graphs\n",
    "library(ggplot2) # ggplot for graphs\n",
    "library(glmnet)\n",
    "require(MASS)\n",
    "require(caret)\n",
    "\n",
    "options(scipen = 999) #disabling scientific notation\n"
   ]
  },
  {
   "cell_type": "markdown",
   "metadata": {},
   "source": [
    "### Check data structure:\n",
    "\n",
    "This section of the notebook is checking the dimension of data set, the number of records, the amount and names of each variable, the attribute of each variable."
   ]
  },
  {
   "cell_type": "code",
   "execution_count": 3,
   "metadata": {},
   "outputs": [
    {
     "data": {
      "text/html": [
       "<ol class=list-inline>\n",
       "\t<li>3283</li>\n",
       "\t<li>12</li>\n",
       "</ol>\n"
      ],
      "text/latex": [
       "\\begin{enumerate*}\n",
       "\\item 3283\n",
       "\\item 12\n",
       "\\end{enumerate*}\n"
      ],
      "text/markdown": [
       "1. 3283\n",
       "2. 12\n",
       "\n",
       "\n"
      ],
      "text/plain": [
       "[1] 3283   12"
      ]
     },
     "metadata": {},
     "output_type": "display_data"
    }
   ],
   "source": [
    "dim(train) # Display the dimensions of the data table"
   ]
  },
  {
   "cell_type": "code",
   "execution_count": 4,
   "metadata": {},
   "outputs": [
    {
     "data": {
      "text/html": [
       "<table>\n",
       "<thead><tr><th scope=col>fixed.acidity</th><th scope=col>volatile.acidity</th><th scope=col>citric.acid</th><th scope=col>residual.sugar</th><th scope=col>chlorides</th><th scope=col>free.sulfur.dioxide</th><th scope=col>total.sulfur.dioxide</th><th scope=col>density</th><th scope=col>pH</th><th scope=col>sulphates</th><th scope=col>alcohol</th><th scope=col>quality</th></tr></thead>\n",
       "<tbody>\n",
       "\t<tr><td>7.0   </td><td>0.27  </td><td>0.36  </td><td>20.70 </td><td>0.045 </td><td>45    </td><td>170   </td><td>1.0010</td><td>3.00  </td><td>0.45  </td><td> 8.8  </td><td>good  </td></tr>\n",
       "\t<tr><td>6.3   </td><td>0.30  </td><td>0.34  </td><td> 1.60 </td><td>0.049 </td><td>14    </td><td>132   </td><td>0.9940</td><td>3.30  </td><td>0.49  </td><td> 9.5  </td><td>good  </td></tr>\n",
       "\t<tr><td>7.2   </td><td>0.23  </td><td>0.32  </td><td> 8.50 </td><td>0.058 </td><td>47    </td><td>186   </td><td>0.9956</td><td>3.19  </td><td>0.40  </td><td> 9.9  </td><td>good  </td></tr>\n",
       "\t<tr><td>8.1   </td><td>0.28  </td><td>0.40  </td><td> 6.90 </td><td>0.050 </td><td>30    </td><td> 97   </td><td>0.9951</td><td>3.26  </td><td>0.44  </td><td>10.1  </td><td>good  </td></tr>\n",
       "\t<tr><td>6.2   </td><td>0.32  </td><td>0.16  </td><td> 7.00 </td><td>0.045 </td><td>30    </td><td>136   </td><td>0.9949</td><td>3.18  </td><td>0.47  </td><td> 9.6  </td><td>good  </td></tr>\n",
       "\t<tr><td>8.1   </td><td>0.27  </td><td>0.41  </td><td> 1.45 </td><td>0.033 </td><td>11    </td><td> 63   </td><td>0.9908</td><td>2.99  </td><td>0.56  </td><td>12.0  </td><td>bad   </td></tr>\n",
       "</tbody>\n",
       "</table>\n"
      ],
      "text/latex": [
       "\\begin{tabular}{r|llllllllllll}\n",
       " fixed.acidity & volatile.acidity & citric.acid & residual.sugar & chlorides & free.sulfur.dioxide & total.sulfur.dioxide & density & pH & sulphates & alcohol & quality\\\\\n",
       "\\hline\n",
       "\t 7.0    & 0.27   & 0.36   & 20.70  & 0.045  & 45     & 170    & 1.0010 & 3.00   & 0.45   &  8.8   & good  \\\\\n",
       "\t 6.3    & 0.30   & 0.34   &  1.60  & 0.049  & 14     & 132    & 0.9940 & 3.30   & 0.49   &  9.5   & good  \\\\\n",
       "\t 7.2    & 0.23   & 0.32   &  8.50  & 0.058  & 47     & 186    & 0.9956 & 3.19   & 0.40   &  9.9   & good  \\\\\n",
       "\t 8.1    & 0.28   & 0.40   &  6.90  & 0.050  & 30     &  97    & 0.9951 & 3.26   & 0.44   & 10.1   & good  \\\\\n",
       "\t 6.2    & 0.32   & 0.16   &  7.00  & 0.045  & 30     & 136    & 0.9949 & 3.18   & 0.47   &  9.6   & good  \\\\\n",
       "\t 8.1    & 0.27   & 0.41   &  1.45  & 0.033  & 11     &  63    & 0.9908 & 2.99   & 0.56   & 12.0   & bad   \\\\\n",
       "\\end{tabular}\n"
      ],
      "text/markdown": [
       "\n",
       "fixed.acidity | volatile.acidity | citric.acid | residual.sugar | chlorides | free.sulfur.dioxide | total.sulfur.dioxide | density | pH | sulphates | alcohol | quality | \n",
       "|---|---|---|---|---|---|\n",
       "| 7.0    | 0.27   | 0.36   | 20.70  | 0.045  | 45     | 170    | 1.0010 | 3.00   | 0.45   |  8.8   | good   | \n",
       "| 6.3    | 0.30   | 0.34   |  1.60  | 0.049  | 14     | 132    | 0.9940 | 3.30   | 0.49   |  9.5   | good   | \n",
       "| 7.2    | 0.23   | 0.32   |  8.50  | 0.058  | 47     | 186    | 0.9956 | 3.19   | 0.40   |  9.9   | good   | \n",
       "| 8.1    | 0.28   | 0.40   |  6.90  | 0.050  | 30     |  97    | 0.9951 | 3.26   | 0.44   | 10.1   | good   | \n",
       "| 6.2    | 0.32   | 0.16   |  7.00  | 0.045  | 30     | 136    | 0.9949 | 3.18   | 0.47   |  9.6   | good   | \n",
       "| 8.1    | 0.27   | 0.41   |  1.45  | 0.033  | 11     |  63    | 0.9908 | 2.99   | 0.56   | 12.0   | bad    | \n",
       "\n",
       "\n"
      ],
      "text/plain": [
       "  fixed.acidity volatile.acidity citric.acid residual.sugar chlorides\n",
       "1 7.0           0.27             0.36        20.70          0.045    \n",
       "2 6.3           0.30             0.34         1.60          0.049    \n",
       "3 7.2           0.23             0.32         8.50          0.058    \n",
       "4 8.1           0.28             0.40         6.90          0.050    \n",
       "5 6.2           0.32             0.16         7.00          0.045    \n",
       "6 8.1           0.27             0.41         1.45          0.033    \n",
       "  free.sulfur.dioxide total.sulfur.dioxide density pH   sulphates alcohol\n",
       "1 45                  170                  1.0010  3.00 0.45       8.8   \n",
       "2 14                  132                  0.9940  3.30 0.49       9.5   \n",
       "3 47                  186                  0.9956  3.19 0.40       9.9   \n",
       "4 30                   97                  0.9951  3.26 0.44      10.1   \n",
       "5 30                  136                  0.9949  3.18 0.47       9.6   \n",
       "6 11                   63                  0.9908  2.99 0.56      12.0   \n",
       "  quality\n",
       "1 good   \n",
       "2 good   \n",
       "3 good   \n",
       "4 good   \n",
       "5 good   \n",
       "6 bad    "
      ]
     },
     "metadata": {},
     "output_type": "display_data"
    }
   ],
   "source": [
    "head(train) # Display the top of the data table"
   ]
  },
  {
   "cell_type": "markdown",
   "metadata": {},
   "source": [
    "**There are 3283 records in the training dataset, and 12 variables.  1 response variable, 10 predictor variables.**\n",
    "\n",
    "All predictor variables can be considered numerical continuous variables.\n",
    "\n",
    "Let's check the format of the data types to ensure they are correct."
   ]
  },
  {
   "cell_type": "code",
   "execution_count": 5,
   "metadata": {},
   "outputs": [
    {
     "name": "stdout",
     "output_type": "stream",
     "text": [
      "'data.frame':\t3283 obs. of  12 variables:\n",
      " $ fixed.acidity       : num  7 6.3 7.2 8.1 6.2 8.1 7.9 6.6 8.3 6.6 ...\n",
      " $ volatile.acidity    : num  0.27 0.3 0.23 0.28 0.32 0.27 0.18 0.16 0.42 0.17 ...\n",
      " $ citric.acid         : num  0.36 0.34 0.32 0.4 0.16 0.41 0.37 0.4 0.62 0.38 ...\n",
      " $ residual.sugar      : num  20.7 1.6 8.5 6.9 7 ...\n",
      " $ chlorides           : num  0.045 0.049 0.058 0.05 0.045 0.033 0.04 0.044 0.04 0.032 ...\n",
      " $ free.sulfur.dioxide : num  45 14 47 30 30 11 16 48 41 28 ...\n",
      " $ total.sulfur.dioxide: num  170 132 186 97 136 63 75 143 172 112 ...\n",
      " $ density             : num  1.001 0.994 0.996 0.995 0.995 ...\n",
      " $ pH                  : num  3 3.3 3.19 3.26 3.18 2.99 3.18 3.54 2.98 3.25 ...\n",
      " $ sulphates           : num  0.45 0.49 0.4 0.44 0.47 0.56 0.63 0.52 0.67 0.55 ...\n",
      " $ alcohol             : num  8.8 9.5 9.9 10.1 9.6 12 10.8 12.4 9.7 11.4 ...\n",
      " $ quality             : Factor w/ 2 levels \"bad\",\"good\": 2 2 2 2 2 1 1 2 1 2 ...\n"
     ]
    }
   ],
   "source": [
    "str(train)"
   ]
  },
  {
   "cell_type": "markdown",
   "metadata": {},
   "source": [
    "The load of data into the notebook has automatically converted the quality into a factor, with 1 = Bad, 2 = Good.  Al of the rest of the variables have been loaded as num, so do not need adjusting."
   ]
  },
  {
   "cell_type": "markdown",
   "metadata": {},
   "source": [
    "### Check summary statistics and distributions:\n",
    "\n",
    "Now let's look at the summary statistics.  For this we will use the package from the psych library.  The psych library offers advanced descriptive statistics that are used in pyschology analysis.  Initially we will look at the continuous numerical values using the describe function to present the mean, standard deviation, range, skew and kurtosis."
   ]
  },
  {
   "cell_type": "code",
   "execution_count": 6,
   "metadata": {},
   "outputs": [
    {
     "data": {
      "text/html": [
       "<table>\n",
       "<thead><tr><th></th><th scope=col>vars</th><th scope=col>n</th><th scope=col>mean</th><th scope=col>sd</th><th scope=col>median</th><th scope=col>trimmed</th><th scope=col>mad</th><th scope=col>min</th><th scope=col>max</th><th scope=col>range</th><th scope=col>skew</th><th scope=col>kurtosis</th><th scope=col>se</th></tr></thead>\n",
       "<tbody>\n",
       "\t<tr><th scope=row>fixed.acidity</th><td> 1     </td><td>3283   </td><td>  6.852</td><td> 0.866 </td><td>  6.800</td><td>  6.810</td><td> 0.741 </td><td>3.800  </td><td> 14.200</td><td> 10.400</td><td> 0.733 </td><td> 2.539 </td><td>0.015  </td></tr>\n",
       "\t<tr><th scope=row>volatile.acidity</th><td> 2     </td><td>3283   </td><td>  0.280</td><td> 0.104 </td><td>  0.260</td><td>  0.269</td><td> 0.089 </td><td>0.080  </td><td>  1.100</td><td>  1.020</td><td> 1.639 </td><td> 5.443 </td><td>0.002  </td></tr>\n",
       "\t<tr><th scope=row>citric.acid</th><td> 3     </td><td>3283   </td><td>  0.336</td><td> 0.123 </td><td>  0.320</td><td>  0.327</td><td> 0.089 </td><td>0.000  </td><td>  1.660</td><td>  1.660</td><td> 1.423 </td><td> 7.429 </td><td>0.002  </td></tr>\n",
       "\t<tr><th scope=row>residual.sugar</th><td> 4     </td><td>3283   </td><td>  6.031</td><td> 4.928 </td><td>  4.800</td><td>  5.396</td><td> 4.893 </td><td>0.600  </td><td> 65.800</td><td> 65.200</td><td> 1.379 </td><td> 6.402 </td><td>0.086  </td></tr>\n",
       "\t<tr><th scope=row>chlorides</th><td> 5     </td><td>3283   </td><td>  0.046</td><td> 0.023 </td><td>  0.043</td><td>  0.043</td><td> 0.010 </td><td>0.009  </td><td>  0.346</td><td>  0.337</td><td> 4.924 </td><td>34.786 </td><td>0.000  </td></tr>\n",
       "\t<tr><th scope=row>free.sulfur.dioxide</th><td> 6     </td><td>3283   </td><td> 35.052</td><td>17.172 </td><td> 33.000</td><td> 34.023</td><td>16.309 </td><td>2.000  </td><td>289.000</td><td>287.000</td><td> 1.769 </td><td>16.159 </td><td>0.300  </td></tr>\n",
       "\t<tr><th scope=row>total.sulfur.dioxide</th><td> 7     </td><td>3283   </td><td>137.660</td><td>42.815 </td><td>133.000</td><td>136.019</td><td>42.995 </td><td>9.000  </td><td>440.000</td><td>431.000</td><td> 0.460 </td><td> 0.748 </td><td>0.747  </td></tr>\n",
       "\t<tr><th scope=row>density</th><td> 8     </td><td>3283   </td><td>  0.994</td><td> 0.003 </td><td>  0.994</td><td>  0.994</td><td> 0.003 </td><td>0.987  </td><td>  1.039</td><td>  0.052</td><td> 1.406 </td><td>16.156 </td><td>0.000  </td></tr>\n",
       "\t<tr><th scope=row>pH</th><td> 9     </td><td>3283   </td><td>  3.195</td><td> 0.152 </td><td>  3.180</td><td>  3.189</td><td> 0.148 </td><td>2.720  </td><td>  3.820</td><td>  1.100</td><td> 0.476 </td><td> 0.602 </td><td>0.003  </td></tr>\n",
       "\t<tr><th scope=row>sulphates</th><td>10     </td><td>3283   </td><td>  0.490</td><td> 0.114 </td><td>  0.480</td><td>  0.481</td><td> 0.104 </td><td>0.220  </td><td>  1.080</td><td>  0.860</td><td> 0.949 </td><td> 1.605 </td><td>0.002  </td></tr>\n",
       "\t<tr><th scope=row>alcohol</th><td>11     </td><td>3283   </td><td> 10.577</td><td> 1.219 </td><td> 10.400</td><td> 10.502</td><td> 1.334 </td><td>8.400  </td><td> 14.000</td><td>  5.600</td><td> 0.465 </td><td>-0.706 </td><td>0.021  </td></tr>\n",
       "\t<tr><th scope=row>quality*</th><td>12     </td><td>3283   </td><td>  1.663</td><td> 0.473 </td><td>  2.000</td><td>  1.704</td><td> 0.000 </td><td>1.000  </td><td>  2.000</td><td>  1.000</td><td>-0.691 </td><td>-1.523 </td><td>0.008  </td></tr>\n",
       "</tbody>\n",
       "</table>\n"
      ],
      "text/latex": [
       "\\begin{tabular}{r|lllllllllllll}\n",
       "  & vars & n & mean & sd & median & trimmed & mad & min & max & range & skew & kurtosis & se\\\\\n",
       "\\hline\n",
       "\tfixed.acidity &  1      & 3283    &   6.852 &  0.866  &   6.800 &   6.810 &  0.741  & 3.800   &  14.200 &  10.400 &  0.733  &  2.539  & 0.015  \\\\\n",
       "\tvolatile.acidity &  2      & 3283    &   0.280 &  0.104  &   0.260 &   0.269 &  0.089  & 0.080   &   1.100 &   1.020 &  1.639  &  5.443  & 0.002  \\\\\n",
       "\tcitric.acid &  3      & 3283    &   0.336 &  0.123  &   0.320 &   0.327 &  0.089  & 0.000   &   1.660 &   1.660 &  1.423  &  7.429  & 0.002  \\\\\n",
       "\tresidual.sugar &  4      & 3283    &   6.031 &  4.928  &   4.800 &   5.396 &  4.893  & 0.600   &  65.800 &  65.200 &  1.379  &  6.402  & 0.086  \\\\\n",
       "\tchlorides &  5      & 3283    &   0.046 &  0.023  &   0.043 &   0.043 &  0.010  & 0.009   &   0.346 &   0.337 &  4.924  & 34.786  & 0.000  \\\\\n",
       "\tfree.sulfur.dioxide &  6      & 3283    &  35.052 & 17.172  &  33.000 &  34.023 & 16.309  & 2.000   & 289.000 & 287.000 &  1.769  & 16.159  & 0.300  \\\\\n",
       "\ttotal.sulfur.dioxide &  7      & 3283    & 137.660 & 42.815  & 133.000 & 136.019 & 42.995  & 9.000   & 440.000 & 431.000 &  0.460  &  0.748  & 0.747  \\\\\n",
       "\tdensity &  8      & 3283    &   0.994 &  0.003  &   0.994 &   0.994 &  0.003  & 0.987   &   1.039 &   0.052 &  1.406  & 16.156  & 0.000  \\\\\n",
       "\tpH &  9      & 3283    &   3.195 &  0.152  &   3.180 &   3.189 &  0.148  & 2.720   &   3.820 &   1.100 &  0.476  &  0.602  & 0.003  \\\\\n",
       "\tsulphates & 10      & 3283    &   0.490 &  0.114  &   0.480 &   0.481 &  0.104  & 0.220   &   1.080 &   0.860 &  0.949  &  1.605  & 0.002  \\\\\n",
       "\talcohol & 11      & 3283    &  10.577 &  1.219  &  10.400 &  10.502 &  1.334  & 8.400   &  14.000 &   5.600 &  0.465  & -0.706  & 0.021  \\\\\n",
       "\tquality* & 12      & 3283    &   1.663 &  0.473  &   2.000 &   1.704 &  0.000  & 1.000   &   2.000 &   1.000 & -0.691  & -1.523  & 0.008  \\\\\n",
       "\\end{tabular}\n"
      ],
      "text/markdown": [
       "\n",
       "| <!--/--> | vars | n | mean | sd | median | trimmed | mad | min | max | range | skew | kurtosis | se | \n",
       "|---|---|---|---|---|---|---|---|---|---|---|---|\n",
       "| fixed.acidity |  1      | 3283    |   6.852 |  0.866  |   6.800 |   6.810 |  0.741  | 3.800   |  14.200 |  10.400 |  0.733  |  2.539  | 0.015   | \n",
       "| volatile.acidity |  2      | 3283    |   0.280 |  0.104  |   0.260 |   0.269 |  0.089  | 0.080   |   1.100 |   1.020 |  1.639  |  5.443  | 0.002   | \n",
       "| citric.acid |  3      | 3283    |   0.336 |  0.123  |   0.320 |   0.327 |  0.089  | 0.000   |   1.660 |   1.660 |  1.423  |  7.429  | 0.002   | \n",
       "| residual.sugar |  4      | 3283    |   6.031 |  4.928  |   4.800 |   5.396 |  4.893  | 0.600   |  65.800 |  65.200 |  1.379  |  6.402  | 0.086   | \n",
       "| chlorides |  5      | 3283    |   0.046 |  0.023  |   0.043 |   0.043 |  0.010  | 0.009   |   0.346 |   0.337 |  4.924  | 34.786  | 0.000   | \n",
       "| free.sulfur.dioxide |  6      | 3283    |  35.052 | 17.172  |  33.000 |  34.023 | 16.309  | 2.000   | 289.000 | 287.000 |  1.769  | 16.159  | 0.300   | \n",
       "| total.sulfur.dioxide |  7      | 3283    | 137.660 | 42.815  | 133.000 | 136.019 | 42.995  | 9.000   | 440.000 | 431.000 |  0.460  |  0.748  | 0.747   | \n",
       "| density |  8      | 3283    |   0.994 |  0.003  |   0.994 |   0.994 |  0.003  | 0.987   |   1.039 |   0.052 |  1.406  | 16.156  | 0.000   | \n",
       "| pH |  9      | 3283    |   3.195 |  0.152  |   3.180 |   3.189 |  0.148  | 2.720   |   3.820 |   1.100 |  0.476  |  0.602  | 0.003   | \n",
       "| sulphates | 10      | 3283    |   0.490 |  0.114  |   0.480 |   0.481 |  0.104  | 0.220   |   1.080 |   0.860 |  0.949  |  1.605  | 0.002   | \n",
       "| alcohol | 11      | 3283    |  10.577 |  1.219  |  10.400 |  10.502 |  1.334  | 8.400   |  14.000 |   5.600 |  0.465  | -0.706  | 0.021   | \n",
       "| quality* | 12      | 3283    |   1.663 |  0.473  |   2.000 |   1.704 |  0.000  | 1.000   |   2.000 |   1.000 | -0.691  | -1.523  | 0.008   | \n",
       "\n",
       "\n"
      ],
      "text/plain": [
       "                     vars n    mean    sd     median  trimmed mad    min  \n",
       "fixed.acidity         1   3283   6.852  0.866   6.800   6.810  0.741 3.800\n",
       "volatile.acidity      2   3283   0.280  0.104   0.260   0.269  0.089 0.080\n",
       "citric.acid           3   3283   0.336  0.123   0.320   0.327  0.089 0.000\n",
       "residual.sugar        4   3283   6.031  4.928   4.800   5.396  4.893 0.600\n",
       "chlorides             5   3283   0.046  0.023   0.043   0.043  0.010 0.009\n",
       "free.sulfur.dioxide   6   3283  35.052 17.172  33.000  34.023 16.309 2.000\n",
       "total.sulfur.dioxide  7   3283 137.660 42.815 133.000 136.019 42.995 9.000\n",
       "density               8   3283   0.994  0.003   0.994   0.994  0.003 0.987\n",
       "pH                    9   3283   3.195  0.152   3.180   3.189  0.148 2.720\n",
       "sulphates            10   3283   0.490  0.114   0.480   0.481  0.104 0.220\n",
       "alcohol              11   3283  10.577  1.219  10.400  10.502  1.334 8.400\n",
       "quality*             12   3283   1.663  0.473   2.000   1.704  0.000 1.000\n",
       "                     max     range   skew   kurtosis se   \n",
       "fixed.acidity         14.200  10.400  0.733  2.539   0.015\n",
       "volatile.acidity       1.100   1.020  1.639  5.443   0.002\n",
       "citric.acid            1.660   1.660  1.423  7.429   0.002\n",
       "residual.sugar        65.800  65.200  1.379  6.402   0.086\n",
       "chlorides              0.346   0.337  4.924 34.786   0.000\n",
       "free.sulfur.dioxide  289.000 287.000  1.769 16.159   0.300\n",
       "total.sulfur.dioxide 440.000 431.000  0.460  0.748   0.747\n",
       "density                1.039   0.052  1.406 16.156   0.000\n",
       "pH                     3.820   1.100  0.476  0.602   0.003\n",
       "sulphates              1.080   0.860  0.949  1.605   0.002\n",
       "alcohol               14.000   5.600  0.465 -0.706   0.021\n",
       "quality*               2.000   1.000 -0.691 -1.523   0.008"
      ]
     },
     "metadata": {},
     "output_type": "display_data"
    }
   ],
   "source": [
    "round(describe(train), 3) # displaying summary statistics rounded to 3 dp"
   ]
  },
  {
   "cell_type": "code",
   "execution_count": 7,
   "metadata": {
    "scrolled": false
   },
   "outputs": [
    {
     "data": {
      "image/png": "[encoded data removed]",
      "text/plain": [
       "plot without title"
      ]
     },
     "metadata": {},
     "output_type": "display_data"
    }
   ],
   "source": [
    "#histograms with density overlaid in a curve\n",
    "fa <-ggplot(aes(x=fixed.acidity), data =  train) + \n",
    "    geom_histogram(aes(y=..density..), colour=\"black\", fill=\"white\", bins = 50) + \n",
    "    geom_density(alpha=.2, fill=\"#FF6666\") +\n",
    "    ggtitle('Fixed Acidity')\n",
    "\n",
    "va <-ggplot(aes(x=volatile.acidity), data =  train) +\n",
    "    geom_histogram(aes(y=..density..), colour=\"black\", fill=\"white\", bins = 50) +\n",
    "    geom_density(alpha=.2, fill=\"#FF6666\") +\n",
    "    ggtitle('Volatile Acidity')\n",
    "\n",
    "ca <-ggplot(aes(x=citric.acid), data =  train) +\n",
    "    geom_histogram(aes(y=..density..), colour=\"black\", fill=\"white\", bins = 50) +\n",
    "    geom_density(alpha=.2, fill=\"#FF6666\") +\n",
    "    ggtitle('Citric Acid')\n",
    "\n",
    "rs <-ggplot(aes(x=residual.sugar), data =  train) + \n",
    "    geom_histogram(aes(y=..density..), colour=\"black\", fill=\"white\", bins = 50) + \n",
    "    geom_density(alpha=.2, fill=\"#FF6666\") +\n",
    "    ggtitle('Residual Sugar')\n",
    "\n",
    "ch <-ggplot(aes(x=chlorides), data =  train) +\n",
    "    geom_histogram(aes(y=..density..), colour=\"black\", fill=\"white\", bins = 50) +\n",
    "    geom_density(alpha=.2, fill=\"#FF6666\") +\n",
    "    ggtitle('Chlorides')\n",
    "\n",
    "fsd <-ggplot(aes(x=free.sulfur.dioxide), data =  train) +\n",
    "    geom_histogram(aes(y=..density..), colour=\"black\", fill=\"white\", bins = 50) +\n",
    "    geom_density(alpha=.2, fill=\"#FF6666\") +\n",
    "    ggtitle('Free Sulfur Dioxide')\n",
    "\n",
    "tsd <-ggplot(aes(x=total.sulfur.dioxide), data =  train) + \n",
    "    geom_histogram(aes(y=..density..), colour=\"black\", fill=\"white\", bins = 50) + \n",
    "    geom_density(alpha=.2, fill=\"#FF6666\") +\n",
    "    ggtitle('Total Sulfur Dioxide')\n",
    "\n",
    "de <-ggplot(aes(x=density), data =  train) +\n",
    "    geom_histogram(aes(y=..density..), colour=\"black\", fill=\"white\", bins = 50) +\n",
    "    geom_density(alpha=.2, fill=\"#FF6666\") +\n",
    "    ggtitle('Density')\n",
    "\n",
    "ph <-ggplot(aes(x=pH), data =  train) +\n",
    "    geom_histogram(aes(y=..density..), colour=\"black\", fill=\"white\", bins = 50) +\n",
    "    geom_density(alpha=.2, fill=\"#FF6666\") +\n",
    "    ggtitle('pH')\n",
    "\n",
    "su <-ggplot(aes(x=sulphates), data =  train) +\n",
    "    geom_histogram(aes(y=..density..), colour=\"black\", fill=\"white\", bins = 50) +\n",
    "    geom_density(alpha=.2, fill=\"#FF6666\") +\n",
    "    ggtitle('Sulphates')\n",
    "\n",
    "al <-ggplot(aes(x=alcohol), data =  train) +\n",
    "    geom_histogram(aes(y=..density..), colour=\"black\", fill=\"white\", bins = 50) +\n",
    "    geom_density(alpha=.2, fill=\"#FF6666\") +\n",
    "    ggtitle('Alcohol')\n",
    "\n",
    "\n",
    "\n",
    "#show all graphs in the grid, with 3 columns\n",
    "grid.arrange(fa, va, ca, rs, ch, fsd, tsd, de, ph, su, al, ncol = 3)"
   ]
  },
  {
   "cell_type": "markdown",
   "metadata": {},
   "source": [
    "Now we will have a quick look at the response variable, quality.  We can investigate the distribution of quality using a frequency plot."
   ]
  },
  {
   "cell_type": "code",
   "execution_count": 8,
   "metadata": {},
   "outputs": [
    {
     "data": {},
     "metadata": {},
     "output_type": "display_data"
    },
    {
     "data": {
      "image/png": "[encoded data removed]",
      "text/plain": [
       "plot without title"
      ]
     },
     "metadata": {},
     "output_type": "display_data"
    }
   ],
   "source": [
    "# generate the frequency plot for Quality\n",
    "qu <-ggplot(aes(x=quality), data = train) +\n",
    "    geom_bar(stat = \"count\", colour=\"black\", alpha=.2, fill=\"#FF6666\") +\n",
    "    ggtitle('Quality')\n",
    "qu"
   ]
  },
  {
   "cell_type": "markdown",
   "metadata": {
    "collapsed": true
   },
   "source": [
    "## Outlier detection:\n",
    "As detected in the analysis of the distributions, there are definitely some outliers in the dataset.  We will look at these outliers by looking at the Cooks distance of the measurements from a general linear model with the family set to binomial."
   ]
  },
  {
   "cell_type": "code",
   "execution_count": 9,
   "metadata": {},
   "outputs": [
    {
     "data": {
      "image/png": "[encoded data removed]",
      "text/plain": [
       "Plot with title \"Potential influential outliers by Cooks distance\""
      ]
     },
     "metadata": {},
     "output_type": "display_data"
    }
   ],
   "source": [
    "#code sourced from https://www.r-bloggers.com/outlier-detection-and-treatment-with-r/\n",
    "mod <- glm(quality ~ ., data=train, family = \"binomial\" (link = \"logit\"))\n",
    "cooksd <- cooks.distance(mod)\n",
    "\n",
    "plot(cooksd, pch=\"*\", cex=2, main=\"Potential influential outliers by Cooks distance\")  # plot cook's distance\n",
    "text(x=1:length(cooksd)+1, y=cooksd)  # add labels"
   ]
  },
  {
   "cell_type": "code",
   "execution_count": 10,
   "metadata": {},
   "outputs": [
    {
     "data": {
      "text/html": [
       "<table>\n",
       "<thead><tr><th></th><th scope=col>fixed.acidity</th><th scope=col>volatile.acidity</th><th scope=col>citric.acid</th><th scope=col>residual.sugar</th><th scope=col>chlorides</th><th scope=col>free.sulfur.dioxide</th><th scope=col>total.sulfur.dioxide</th><th scope=col>density</th><th scope=col>pH</th><th scope=col>sulphates</th><th scope=col>alcohol</th><th scope=col>quality</th></tr></thead>\n",
       "<tbody>\n",
       "\t<tr><th scope=row>1908</th><td>7.8    </td><td>0.965  </td><td>0.60   </td><td>65.8   </td><td>0.074  </td><td>  8    </td><td>160    </td><td>1.03898</td><td>3.39   </td><td>0.69   </td><td>11.7   </td><td>good   </td></tr>\n",
       "\t<tr><th scope=row>3172</th><td>6.1    </td><td>0.260  </td><td>0.25   </td><td> 2.9   </td><td>0.047  </td><td>289    </td><td>440    </td><td>0.99314</td><td>3.44   </td><td>0.64   </td><td>10.5   </td><td>bad    </td></tr>\n",
       "</tbody>\n",
       "</table>\n"
      ],
      "text/latex": [
       "\\begin{tabular}{r|llllllllllll}\n",
       "  & fixed.acidity & volatile.acidity & citric.acid & residual.sugar & chlorides & free.sulfur.dioxide & total.sulfur.dioxide & density & pH & sulphates & alcohol & quality\\\\\n",
       "\\hline\n",
       "\t1908 & 7.8     & 0.965   & 0.60    & 65.8    & 0.074   &   8     & 160     & 1.03898 & 3.39    & 0.69    & 11.7    & good   \\\\\n",
       "\t3172 & 6.1     & 0.260   & 0.25    &  2.9    & 0.047   & 289     & 440     & 0.99314 & 3.44    & 0.64    & 10.5    & bad    \\\\\n",
       "\\end{tabular}\n"
      ],
      "text/markdown": [
       "\n",
       "| <!--/--> | fixed.acidity | volatile.acidity | citric.acid | residual.sugar | chlorides | free.sulfur.dioxide | total.sulfur.dioxide | density | pH | sulphates | alcohol | quality | \n",
       "|---|---|\n",
       "| 1908 | 7.8     | 0.965   | 0.60    | 65.8    | 0.074   |   8     | 160     | 1.03898 | 3.39    | 0.69    | 11.7    | good    | \n",
       "| 3172 | 6.1     | 0.260   | 0.25    |  2.9    | 0.047   | 289     | 440     | 0.99314 | 3.44    | 0.64    | 10.5    | bad     | \n",
       "\n",
       "\n"
      ],
      "text/plain": [
       "     fixed.acidity volatile.acidity citric.acid residual.sugar chlorides\n",
       "1908 7.8           0.965            0.60        65.8           0.074    \n",
       "3172 6.1           0.260            0.25         2.9           0.047    \n",
       "     free.sulfur.dioxide total.sulfur.dioxide density pH   sulphates alcohol\n",
       "1908   8                 160                  1.03898 3.39 0.69      11.7   \n",
       "3172 289                 440                  0.99314 3.44 0.64      10.5   \n",
       "     quality\n",
       "1908 good   \n",
       "3172 bad    "
      ]
     },
     "metadata": {},
     "output_type": "display_data"
    }
   ],
   "source": [
    "infoutliers <- cooksd>0.04  # influential row numbers\n",
    "(train[infoutliers, ])  # influential observations."
   ]
  },
  {
   "cell_type": "markdown",
   "metadata": {},
   "source": [
    "- 3172 has very high sulfur dioxide - both free (median = 33) and total (median = 133).  \n",
    "- 1908 has a very high residual sugar count (median = 4.5).\n",
    "\n",
    "Let's remove these outliers as they are likely to impact all of the models in the rest of this analyis."
   ]
  },
  {
   "cell_type": "code",
   "execution_count": 11,
   "metadata": {
    "collapsed": true
   },
   "outputs": [],
   "source": [
    "train <- subset(train, residual.sugar != 65.8)\n",
    "train <- subset(train, total.sulfur.dioxide != 440)"
   ]
  },
  {
   "cell_type": "markdown",
   "metadata": {},
   "source": [
    "There may be other outliers in the data, but these will be considered once the models are created and assessed."
   ]
  },
  {
   "cell_type": "markdown",
   "metadata": {},
   "source": [
    "## Feature Engineering:"
   ]
  },
  {
   "cell_type": "markdown",
   "metadata": {},
   "source": [
    "Feature engineering is when we use knowledge of the data to modify the features for input into the models.  The main thing to consider here is that winemakers usually aim to have a high concentration of free sulfur dioxide in their wines.  This means that it may be logical to convert free and total sulfur dioxide to a concentration of dioxide instead.\n",
    "\n",
    "This will be converted by dividing free.sulfur.dioxide by total.sulfur.dioxide and multiplying by 100, so that the free sulfur dioxide is represented as a percentage of the total sulfur dioxide."
   ]
  },
  {
   "cell_type": "code",
   "execution_count": 12,
   "metadata": {},
   "outputs": [
    {
     "data": {},
     "metadata": {},
     "output_type": "display_data"
    },
    {
     "data": {
      "image/png": "[encoded data removed]",
      "text/plain": [
       "plot without title"
      ]
     },
     "metadata": {},
     "output_type": "display_data"
    }
   ],
   "source": [
    "#Check the distribution of the new feature\n",
    "sdconc <-ggplot(aes(x=(train$free.sulfur.dioxide / train$total.sulfur.dioxide * 100)), data =  train) + \n",
    "    geom_histogram(aes(y=..density..), colour=\"black\", fill=\"white\", bins = 50) + \n",
    "    geom_density(alpha=.2, fill=\"#FF6666\") +\n",
    "    ggtitle('Free sulfur dioxide / total sulfur dioxide')\n",
    "sdconc"
   ]
  },
  {
   "cell_type": "markdown",
   "metadata": {},
   "source": [
    "Now we will check for correlations amongst any of the predictors.  If the predictors are highly correlated with one another, it may be worth while to combine the correlated variables as a multiplication of one another.  We can find correlations using the cor() function in R."
   ]
  },
  {
   "cell_type": "code",
   "execution_count": 13,
   "metadata": {},
   "outputs": [
    {
     "data": {
      "text/html": [
       "<table>\n",
       "<thead><tr><th></th><th scope=col>fixed.acidity</th><th scope=col>volatile.acidity</th><th scope=col>citric.acid</th><th scope=col>residual.sugar</th><th scope=col>chlorides</th><th scope=col>free.sulfur.dioxide</th><th scope=col>total.sulfur.dioxide</th><th scope=col>density</th><th scope=col>pH</th><th scope=col>sulphates</th><th scope=col>alcohol</th></tr></thead>\n",
       "<tbody>\n",
       "\t<tr><th scope=row>fixed.acidity</th><td> 1.000</td><td>-0.034</td><td> 0.301</td><td> 0.081</td><td> 0.022</td><td>-0.053</td><td> 0.079</td><td> 0.273</td><td>-0.434</td><td>-0.017</td><td>-0.120</td></tr>\n",
       "\t<tr><th scope=row>volatile.acidity</th><td>-0.034</td><td> 1.000</td><td>-0.162</td><td> 0.071</td><td> 0.080</td><td>-0.097</td><td> 0.100</td><td> 0.022</td><td>-0.048</td><td>-0.024</td><td> 0.051</td></tr>\n",
       "\t<tr><th scope=row>citric.acid</th><td> 0.301</td><td>-0.162</td><td> 1.000</td><td> 0.110</td><td> 0.126</td><td> 0.100</td><td> 0.131</td><td> 0.164</td><td>-0.184</td><td> 0.057</td><td>-0.079</td></tr>\n",
       "\t<tr><th scope=row>residual.sugar</th><td> 0.081</td><td> 0.071</td><td> 0.110</td><td> 1.000</td><td> 0.072</td><td> 0.326</td><td> 0.409</td><td> 0.815</td><td>-0.183</td><td>-0.028</td><td>-0.418</td></tr>\n",
       "\t<tr><th scope=row>chlorides</th><td> 0.022</td><td> 0.080</td><td> 0.126</td><td> 0.072</td><td> 1.000</td><td> 0.107</td><td> 0.194</td><td> 0.253</td><td>-0.089</td><td> 0.017</td><td>-0.359</td></tr>\n",
       "\t<tr><th scope=row>free.sulfur.dioxide</th><td>-0.053</td><td>-0.097</td><td> 0.100</td><td> 0.326</td><td> 0.107</td><td> 1.000</td><td> 0.620</td><td> 0.322</td><td>-0.015</td><td> 0.033</td><td>-0.260</td></tr>\n",
       "\t<tr><th scope=row>total.sulfur.dioxide</th><td> 0.079</td><td> 0.100</td><td> 0.131</td><td> 0.409</td><td> 0.194</td><td> 0.620</td><td> 1.000</td><td> 0.548</td><td> 0.006</td><td> 0.128</td><td>-0.450</td></tr>\n",
       "\t<tr><th scope=row>density</th><td> 0.273</td><td> 0.022</td><td> 0.164</td><td> 0.815</td><td> 0.253</td><td> 0.322</td><td> 0.548</td><td> 1.000</td><td>-0.080</td><td> 0.067</td><td>-0.793</td></tr>\n",
       "\t<tr><th scope=row>pH</th><td>-0.434</td><td>-0.048</td><td>-0.184</td><td>-0.183</td><td>-0.089</td><td>-0.015</td><td> 0.006</td><td>-0.080</td><td> 1.000</td><td> 0.134</td><td> 0.093</td></tr>\n",
       "\t<tr><th scope=row>sulphates</th><td>-0.017</td><td>-0.024</td><td> 0.057</td><td>-0.028</td><td> 0.017</td><td> 0.033</td><td> 0.128</td><td> 0.067</td><td> 0.134</td><td> 1.000</td><td>-0.010</td></tr>\n",
       "\t<tr><th scope=row>alcohol</th><td>-0.120</td><td> 0.051</td><td>-0.079</td><td>-0.418</td><td>-0.359</td><td>-0.260</td><td>-0.450</td><td>-0.793</td><td> 0.093</td><td>-0.010</td><td> 1.000</td></tr>\n",
       "</tbody>\n",
       "</table>\n"
      ],
      "text/latex": [
       "\\begin{tabular}{r|lllllllllll}\n",
       "  & fixed.acidity & volatile.acidity & citric.acid & residual.sugar & chlorides & free.sulfur.dioxide & total.sulfur.dioxide & density & pH & sulphates & alcohol\\\\\n",
       "\\hline\n",
       "\tfixed.acidity &  1.000 & -0.034 &  0.301 &  0.081 &  0.022 & -0.053 &  0.079 &  0.273 & -0.434 & -0.017 & -0.120\\\\\n",
       "\tvolatile.acidity & -0.034 &  1.000 & -0.162 &  0.071 &  0.080 & -0.097 &  0.100 &  0.022 & -0.048 & -0.024 &  0.051\\\\\n",
       "\tcitric.acid &  0.301 & -0.162 &  1.000 &  0.110 &  0.126 &  0.100 &  0.131 &  0.164 & -0.184 &  0.057 & -0.079\\\\\n",
       "\tresidual.sugar &  0.081 &  0.071 &  0.110 &  1.000 &  0.072 &  0.326 &  0.409 &  0.815 & -0.183 & -0.028 & -0.418\\\\\n",
       "\tchlorides &  0.022 &  0.080 &  0.126 &  0.072 &  1.000 &  0.107 &  0.194 &  0.253 & -0.089 &  0.017 & -0.359\\\\\n",
       "\tfree.sulfur.dioxide & -0.053 & -0.097 &  0.100 &  0.326 &  0.107 &  1.000 &  0.620 &  0.322 & -0.015 &  0.033 & -0.260\\\\\n",
       "\ttotal.sulfur.dioxide &  0.079 &  0.100 &  0.131 &  0.409 &  0.194 &  0.620 &  1.000 &  0.548 &  0.006 &  0.128 & -0.450\\\\\n",
       "\tdensity &  0.273 &  0.022 &  0.164 &  0.815 &  0.253 &  0.322 &  0.548 &  1.000 & -0.080 &  0.067 & -0.793\\\\\n",
       "\tpH & -0.434 & -0.048 & -0.184 & -0.183 & -0.089 & -0.015 &  0.006 & -0.080 &  1.000 &  0.134 &  0.093\\\\\n",
       "\tsulphates & -0.017 & -0.024 &  0.057 & -0.028 &  0.017 &  0.033 &  0.128 &  0.067 &  0.134 &  1.000 & -0.010\\\\\n",
       "\talcohol & -0.120 &  0.051 & -0.079 & -0.418 & -0.359 & -0.260 & -0.450 & -0.793 &  0.093 & -0.010 &  1.000\\\\\n",
       "\\end{tabular}\n"
      ],
      "text/markdown": [
       "\n",
       "| <!--/--> | fixed.acidity | volatile.acidity | citric.acid | residual.sugar | chlorides | free.sulfur.dioxide | total.sulfur.dioxide | density | pH | sulphates | alcohol | \n",
       "|---|---|---|---|---|---|---|---|---|---|---|\n",
       "| fixed.acidity |  1.000 | -0.034 |  0.301 |  0.081 |  0.022 | -0.053 |  0.079 |  0.273 | -0.434 | -0.017 | -0.120 | \n",
       "| volatile.acidity | -0.034 |  1.000 | -0.162 |  0.071 |  0.080 | -0.097 |  0.100 |  0.022 | -0.048 | -0.024 |  0.051 | \n",
       "| citric.acid |  0.301 | -0.162 |  1.000 |  0.110 |  0.126 |  0.100 |  0.131 |  0.164 | -0.184 |  0.057 | -0.079 | \n",
       "| residual.sugar |  0.081 |  0.071 |  0.110 |  1.000 |  0.072 |  0.326 |  0.409 |  0.815 | -0.183 | -0.028 | -0.418 | \n",
       "| chlorides |  0.022 |  0.080 |  0.126 |  0.072 |  1.000 |  0.107 |  0.194 |  0.253 | -0.089 |  0.017 | -0.359 | \n",
       "| free.sulfur.dioxide | -0.053 | -0.097 |  0.100 |  0.326 |  0.107 |  1.000 |  0.620 |  0.322 | -0.015 |  0.033 | -0.260 | \n",
       "| total.sulfur.dioxide |  0.079 |  0.100 |  0.131 |  0.409 |  0.194 |  0.620 |  1.000 |  0.548 |  0.006 |  0.128 | -0.450 | \n",
       "| density |  0.273 |  0.022 |  0.164 |  0.815 |  0.253 |  0.322 |  0.548 |  1.000 | -0.080 |  0.067 | -0.793 | \n",
       "| pH | -0.434 | -0.048 | -0.184 | -0.183 | -0.089 | -0.015 |  0.006 | -0.080 |  1.000 |  0.134 |  0.093 | \n",
       "| sulphates | -0.017 | -0.024 |  0.057 | -0.028 |  0.017 |  0.033 |  0.128 |  0.067 |  0.134 |  1.000 | -0.010 | \n",
       "| alcohol | -0.120 |  0.051 | -0.079 | -0.418 | -0.359 | -0.260 | -0.450 | -0.793 |  0.093 | -0.010 |  1.000 | \n",
       "\n",
       "\n"
      ],
      "text/plain": [
       "                     fixed.acidity volatile.acidity citric.acid residual.sugar\n",
       "fixed.acidity         1.000        -0.034            0.301       0.081        \n",
       "volatile.acidity     -0.034         1.000           -0.162       0.071        \n",
       "citric.acid           0.301        -0.162            1.000       0.110        \n",
       "residual.sugar        0.081         0.071            0.110       1.000        \n",
       "chlorides             0.022         0.080            0.126       0.072        \n",
       "free.sulfur.dioxide  -0.053        -0.097            0.100       0.326        \n",
       "total.sulfur.dioxide  0.079         0.100            0.131       0.409        \n",
       "density               0.273         0.022            0.164       0.815        \n",
       "pH                   -0.434        -0.048           -0.184      -0.183        \n",
       "sulphates            -0.017        -0.024            0.057      -0.028        \n",
       "alcohol              -0.120         0.051           -0.079      -0.418        \n",
       "                     chlorides free.sulfur.dioxide total.sulfur.dioxide density\n",
       "fixed.acidity         0.022    -0.053               0.079                0.273 \n",
       "volatile.acidity      0.080    -0.097               0.100                0.022 \n",
       "citric.acid           0.126     0.100               0.131                0.164 \n",
       "residual.sugar        0.072     0.326               0.409                0.815 \n",
       "chlorides             1.000     0.107               0.194                0.253 \n",
       "free.sulfur.dioxide   0.107     1.000               0.620                0.322 \n",
       "total.sulfur.dioxide  0.194     0.620               1.000                0.548 \n",
       "density               0.253     0.322               0.548                1.000 \n",
       "pH                   -0.089    -0.015               0.006               -0.080 \n",
       "sulphates             0.017     0.033               0.128                0.067 \n",
       "alcohol              -0.359    -0.260              -0.450               -0.793 \n",
       "                     pH     sulphates alcohol\n",
       "fixed.acidity        -0.434 -0.017    -0.120 \n",
       "volatile.acidity     -0.048 -0.024     0.051 \n",
       "citric.acid          -0.184  0.057    -0.079 \n",
       "residual.sugar       -0.183 -0.028    -0.418 \n",
       "chlorides            -0.089  0.017    -0.359 \n",
       "free.sulfur.dioxide  -0.015  0.033    -0.260 \n",
       "total.sulfur.dioxide  0.006  0.128    -0.450 \n",
       "density              -0.080  0.067    -0.793 \n",
       "pH                    1.000  0.134     0.093 \n",
       "sulphates             0.134  1.000    -0.010 \n",
       "alcohol               0.093 -0.010     1.000 "
      ]
     },
     "metadata": {},
     "output_type": "display_data"
    }
   ],
   "source": [
    "round(cor(train[,-12]),3)"
   ]
  },
  {
   "cell_type": "markdown",
   "metadata": {},
   "source": [
    "Other correlations that may be worth considering in our models based on the correlation is:\n",
    "- the negative correlation between alcohol and density (-0.793)\n",
    "- the positive correlation between density and residual sugar (0.815)\n",
    "\n",
    "All of the rest of the correlations have a Pearson's value of < 0.6, and therefore are considered to be not very strong."
   ]
  },
  {
   "cell_type": "code",
   "execution_count": 14,
   "metadata": {},
   "outputs": [
    {
     "data": {
      "image/png": "[encoded data removed]",
      "text/plain": [
       "plot without title"
      ]
     },
     "metadata": {},
     "output_type": "display_data"
    }
   ],
   "source": [
    "#check the distribution of the correlated features multiplied by one another\n",
    "ad <-ggplot(aes(x=train$alcohol*train$density), data =  train) +\n",
    "    geom_histogram(aes(y=..density..), colour=\"black\", fill=\"white\", bins = 50) +\n",
    "    geom_density(alpha=.2, fill=\"#FF6666\") +\n",
    "    ggtitle('Alcohol and Density')\n",
    "\n",
    "dl <-ggplot(aes(x=train$density*train$residual.sugar), data =  train) +\n",
    "    geom_histogram(aes(y=..density..), colour=\"black\", fill=\"white\", bins = 50) +\n",
    "    geom_density(alpha=.2, fill=\"#FF6666\") +\n",
    "    ggtitle('Density and Residual Sugar')\n",
    "\n",
    "\n",
    "\n",
    "#show all 3 graphs in the grid, with 1 column\n",
    "grid.arrange(ad, dl, ncol = 2)"
   ]
  },
  {
   "cell_type": "markdown",
   "metadata": {},
   "source": [
    "Based on this analysis, these new features can be considered in the models:\n",
    "- free.sulfur.dioxide / total.sulfur.dioxide * 100\n",
    "- density * alcohol\n",
    "- density * residual sugar\n",
    "\n",
    "Let's add these to our dataframe"
   ]
  },
  {
   "cell_type": "code",
   "execution_count": 15,
   "metadata": {
    "collapsed": true
   },
   "outputs": [],
   "source": [
    "train$sulfconc = train$free.sulfur.dioxide/train$total.sulfur.dioxide*100\n",
    "train$alcden = train$density*train$alcohol\n",
    "train$den_res = train$density*train$residual.sugar"
   ]
  },
  {
   "cell_type": "markdown",
   "metadata": {},
   "source": [
    "__Possible future features to be added to the model__\n",
    "\n",
    "There are also many other features that could be considered to improve the model.  The fact that the alcohol distribution is a multi-modal, broad, non-normal distribution means that there could be other features that are not included in the data set that will explain the variances.  \n",
    "\n",
    "Some recommendations for feature engineering that might improve any model produced include:\n",
    "- Including the Red, White or Rose data for the dataset.  It is possible that the factors that improve the taste of red wine are different from the factors that improve the taste of white wine.\n",
    "- Including information about the person that tasted the wine.  It is possible that personal factors such as location, background and class may influence the rating a taster gives wine.\n",
    "- Including information about where the wines came from, or the climate they are grown in.\n",
    "- Including information about the age of wines\n",
    "- Including information about the cost per litre to produce of wine"
   ]
  },
  {
   "cell_type": "markdown",
   "metadata": {},
   "source": [
    "## Stepwise Regression\n",
    "\n",
    "First we will use a stepwise regression method of for predicting the quality of wine.  In stepwise regression, the predictor variables are chosen automatically through a process of adding predictors to the model. The process begins with a model containing no predictors, and then adds predictors one at a time, until all of the predictors are in the model.  At each step the variable that gives the greatest additional improvement to the fit is added to the model.\n",
    "\n",
    "To implement stepwise regression for the logistic model - we will use the inbuilt step() function from base R.  The R function GLM (General Linear Model) will be used to build the model and the family will be set to Binomial - which handles the two factor good vs bad response variable."
   ]
  },
  {
   "cell_type": "code",
   "execution_count": 16,
   "metadata": {
    "collapsed": true
   },
   "outputs": [],
   "source": [
    "#Perform cross-validation to check which model is the best\n",
    "k=10 #set the number of folds to 10 \n",
    "set.seed(9999) #use a seed so that random selections are reproducible\n",
    "folds=sample(1:k,nrow(train),replace=TRUE) #create a column attached to the training data set that numbers the folds."
   ]
  },
  {
   "cell_type": "code",
   "execution_count": 17,
   "metadata": {
    "collapsed": true
   },
   "outputs": [],
   "source": [
    "models <- list()\n",
    "\n",
    "for(j in 1:k) {\n",
    "    \n",
    "    #set up the folds for cross validation\n",
    "    data=train[folds!=j,]\n",
    "    x1=train[folds==j,][,-12]\n",
    "    y1=train$quality[folds==j]\n",
    "\n",
    "    #set the starting scope to 1 variable\n",
    "    wine.glmstart <- glm(quality ~ 1, data=data, family=binomial(link = 'logit'))\n",
    "    \n",
    "    #set the final scope to the engineered features, plus the other features included in data set\n",
    "    wine.glmfinish <- glm(quality ~ ., data=data, family=binomial(link = 'logit'))\n",
    "    \n",
    "    #Use the stepAIC function to step from one attribute to all attributes\n",
    "    wine.step <- stepAIC(wine.glmstart, scope=list(lower=wine.glmstart, upper=wine.glmfinish), direction=\"forward\", trace = FALSE)\n",
    "\n",
    "    #store each model in a list\n",
    "    models[[j]] <- formula(wine.step)\n",
    "    \n",
    "    \n",
    "  }"
   ]
  },
  {
   "cell_type": "code",
   "execution_count": 18,
   "metadata": {},
   "outputs": [
    {
     "data": {
      "text/plain": [
       "[[1]]\n",
       "quality ~ alcden + volatile.acidity + sulfconc + sulphates + \n",
       "    residual.sugar + fixed.acidity + pH + alcohol + total.sulfur.dioxide + \n",
       "    free.sulfur.dioxide\n",
       "\n",
       "[[2]]\n",
       "quality ~ alcden + volatile.acidity + sulfconc + sulphates + \n",
       "    residual.sugar + fixed.acidity + alcohol + pH + den_res\n",
       "\n",
       "[[3]]\n",
       "quality ~ alcden + volatile.acidity + sulfconc + residual.sugar + \n",
       "    sulphates + fixed.acidity + pH + alcohol + den_res\n",
       "\n",
       "[[4]]\n",
       "quality ~ alcden + volatile.acidity + sulfconc + sulphates + \n",
       "    residual.sugar + fixed.acidity + pH + alcohol + total.sulfur.dioxide + \n",
       "    free.sulfur.dioxide + den_res\n",
       "\n",
       "[[5]]\n",
       "quality ~ alcden + volatile.acidity + sulfconc + residual.sugar + \n",
       "    sulphates + fixed.acidity + den_res + pH + alcohol + density\n",
       "\n",
       "[[6]]\n",
       "quality ~ alcden + volatile.acidity + sulfconc + residual.sugar + \n",
       "    sulphates + fixed.acidity + pH + alcohol + total.sulfur.dioxide + \n",
       "    free.sulfur.dioxide + den_res\n",
       "\n",
       "[[7]]\n",
       "quality ~ alcden + volatile.acidity + sulfconc + sulphates + \n",
       "    residual.sugar + fixed.acidity + den_res + free.sulfur.dioxide + \n",
       "    total.sulfur.dioxide + pH + alcohol\n",
       "\n",
       "[[8]]\n",
       "quality ~ alcden + volatile.acidity + sulfconc + residual.sugar + \n",
       "    pH + alcohol + sulphates + den_res\n",
       "\n",
       "[[9]]\n",
       "quality ~ alcden + volatile.acidity + sulfconc + residual.sugar + \n",
       "    sulphates + fixed.acidity + alcohol + pH + total.sulfur.dioxide + \n",
       "    free.sulfur.dioxide + den_res + density\n",
       "\n",
       "[[10]]\n",
       "quality ~ alcden + volatile.acidity + sulfconc + sulphates + \n",
       "    residual.sugar + fixed.acidity + pH + alcohol\n"
      ]
     },
     "metadata": {},
     "output_type": "display_data"
    }
   ],
   "source": [
    "models"
   ]
  },
  {
   "cell_type": "markdown",
   "metadata": {},
   "source": [
    "Each of these models show what stepwise selection has chosen for each fold.  It looks like our folds have returned different results.  Because we have combined total.sulfur.dioxide and free.sulfur.dioxide to turn it into a concentration, then we can remove the individual variables from the steps.  We can also remove alcohol and density as these are represented in the alcden variable.  Now the combination of residual.sugar and density is not performing well in any model, and in some of the final models it has even been removed.  This means that we can remove this as a factor, and retain residual.sugar as a factor which is used by all models.  \n",
    "\n",
    "To remove these features from consideration, we will adjust wine.glmfinish to only consider:\n",
    "- alcden \n",
    "- sulfconc\n",
    "- residual.sugar\n",
    "- fixed.acidity\n",
    "- volatile.acidity\n",
    "- citric.acid\n",
    "- chlorides\n",
    "- pH\n",
    "- sulphate\n",
    "\n",
    "Please note that all features from the original dataset are still included, just some features have been engineered.\n",
    "These changes should improve our cross validation results on the stepwise regression."
   ]
  },
  {
   "cell_type": "code",
   "execution_count": 19,
   "metadata": {
    "collapsed": true
   },
   "outputs": [],
   "source": [
    "models <- list()\n",
    "\n",
    "for(j in 1:k) {\n",
    "    \n",
    "    #set up the folds for cross validation\n",
    "    data=train[folds!=j,]\n",
    "    x1=train[folds==j,][,-12]\n",
    "    y1=train$quality[folds==j]\n",
    "\n",
    "    #set the starting scope to 1 variable\n",
    "    wine.glmstart <- glm(quality ~ 1, data=data, family=binomial(link = 'logit'))\n",
    "    \n",
    "    #set the final scope to the engineered features, plus the other features included in data set\n",
    "    wine.glmfinish <- glm(quality ~ alcden+sulfconc+residual.sugar+fixed.acidity+volatile.acidity+\n",
    "                          citric.acid+chlorides+pH, data=data, family=binomial(link = 'logit'))\n",
    "    \n",
    "    #Use the stepAIC function to step from one attribute to all attributes\n",
    "    wine.step <- stepAIC(wine.glmstart, scope=list(lower=wine.glmstart, upper=wine.glmfinish), direction=\"forward\", trace = FALSE)\n",
    "\n",
    "    #store each model in a list\n",
    "    models[[j]] <- formula(wine.step)    \n",
    "    \n",
    "  }"
   ]
  },
  {
   "cell_type": "code",
   "execution_count": 20,
   "metadata": {},
   "outputs": [
    {
     "data": {
      "text/plain": [
       "[[1]]\n",
       "quality ~ alcden + volatile.acidity + sulfconc + residual.sugar + \n",
       "    fixed.acidity + pH\n",
       "\n",
       "[[2]]\n",
       "quality ~ alcden + volatile.acidity + sulfconc + residual.sugar + \n",
       "    fixed.acidity + pH\n",
       "\n",
       "[[3]]\n",
       "quality ~ alcden + volatile.acidity + sulfconc + residual.sugar + \n",
       "    pH + fixed.acidity\n",
       "\n",
       "[[4]]\n",
       "quality ~ alcden + volatile.acidity + sulfconc + residual.sugar + \n",
       "    pH + fixed.acidity\n",
       "\n",
       "[[5]]\n",
       "quality ~ alcden + volatile.acidity + sulfconc + residual.sugar + \n",
       "    pH + fixed.acidity\n",
       "\n",
       "[[6]]\n",
       "quality ~ alcden + volatile.acidity + sulfconc + residual.sugar + \n",
       "    pH + fixed.acidity\n",
       "\n",
       "[[7]]\n",
       "quality ~ alcden + volatile.acidity + sulfconc + residual.sugar + \n",
       "    fixed.acidity + pH\n",
       "\n",
       "[[8]]\n",
       "quality ~ alcden + volatile.acidity + sulfconc + residual.sugar + \n",
       "    pH + fixed.acidity\n",
       "\n",
       "[[9]]\n",
       "quality ~ alcden + volatile.acidity + sulfconc + residual.sugar + \n",
       "    fixed.acidity + pH\n",
       "\n",
       "[[10]]\n",
       "quality ~ alcden + volatile.acidity + sulfconc + residual.sugar + \n",
       "    fixed.acidity + pH\n"
      ]
     },
     "metadata": {},
     "output_type": "display_data"
    }
   ],
   "source": [
    "models"
   ]
  },
  {
   "cell_type": "markdown",
   "metadata": {},
   "source": [
    "Now our cross-validated stepwise selection of variables is choosing the same variables for each as the final model (even though some of them are returning them in a slightly different priority order)!\n",
    "\n",
    "The final variables chosen by the stepwise regression are:\n",
    "- combination of alchol and density\n",
    "- volatile.acidity\n",
    "- sulfconc\n",
    "- residual.sugar\n",
    "- fixed.acidity\n",
    "- pH\n",
    "\n",
    "Now we can check how this model performs by running a cross-validation against the training data."
   ]
  },
  {
   "cell_type": "code",
   "execution_count": 21,
   "metadata": {
    "collapsed": true
   },
   "outputs": [],
   "source": [
    "probabilities <- list()\n",
    "actuals <- list()\n",
    "preds <- list()\n",
    "accuracy <- vector()\n",
    "precision <- vector()\n",
    "recall <- vector()\n",
    "fmeasure <- vector()\n",
    "intercept <- vector()\n",
    "alcden <- vector()\n",
    "volatile.acidity <- vector()\n",
    "sulfconc <- vector()\n",
    "residual.sugar <- vector()\n",
    "fixed.acidity <- vector()\n",
    "pH <- vector()\n",
    "\n",
    "k = 10\n",
    "\n",
    "for(j in 1:k) {\n",
    "    \n",
    "    #set up the folds for cross validation\n",
    "    data=train[folds!=j,]\n",
    "    x1=train[folds==j,][,-12]\n",
    "    y1=train$quality[folds==j]\n",
    "    \n",
    "    #Use the stepAIC function to step from one attribute to all attributes\n",
    "    wine.stepfinal <- glm(quality ~ alcden + volatile.acidity + sulfconc + residual.sugar + \n",
    "                          fixed.acidity + pH, \n",
    "                          data=data, family=binomial(link = 'logit'))\n",
    "\n",
    "    #store the model attributes for each model\n",
    "    probabilities[[j]] <- predict(wine.stepfinal, x1, type = \"response\")\n",
    "    actuals[[j]] <- y1\n",
    "    preds[[j]] = ifelse(predict(wine.stepfinal, x1, type = \"response\") <0.5, \"bad\", \"good\")\n",
    "    \n",
    "    cm <- confusionMatrix(preds[[j]], actuals[[j]])\n",
    "    table <- cm$table\n",
    "\n",
    "    accuracy[j] <- confusionMatrix(preds[[j]], actuals[[j]])$overall['Accuracy']\n",
    "    precision[j] <- table[2, 2] / sum(table[2,])\n",
    "    recall[j] <- table[2, 2] / sum(table[,2]) \n",
    "    fmeasure[j] <- 2 * precision[[j]] * recall[[j]] / (precision[[j]] + recall[[j]]) #f-measure\n",
    "    \n",
    "    intercept[j] <- as.numeric(wine.stepfinal$coefficients[1])\n",
    "    alcden[j] <- as.numeric(wine.stepfinal$coefficients[2])\n",
    "    volatile.acidity[j] <- as.numeric(wine.stepfinal$coefficients[3])\n",
    "    sulfconc[j] <- as.numeric(wine.stepfinal$coefficients[4])\n",
    "    residual.sugar[j] <- as.numeric(wine.stepfinal$coefficients[5])\n",
    "    fixed.acidity[j] <- as.numeric(wine.stepfinal$coefficients[6])\n",
    "    pH[j] <- as.numeric(wine.stepfinal$coefficients[7])\n",
    "    \n",
    "    \n",
    "  }\n"
   ]
  },
  {
   "cell_type": "code",
   "execution_count": 22,
   "metadata": {},
   "outputs": [
    {
     "data": {
      "text/html": [
       "<table>\n",
       "<thead><tr><th scope=col>folds</th><th scope=col>intercept</th><th scope=col>alcden</th><th scope=col>volatile.acidity</th><th scope=col>sulfconc</th><th scope=col>residual.sugar</th><th scope=col>fixed.acidity</th></tr></thead>\n",
       "<tbody>\n",
       "\t<tr><td> 1        </td><td>-11.30568 </td><td>1.081768  </td><td>-6.230952 </td><td>0.03099512</td><td>0.04501107</td><td>-0.1558337</td></tr>\n",
       "\t<tr><td> 2        </td><td>-11.29605 </td><td>1.083162  </td><td>-6.262449 </td><td>0.03039384</td><td>0.05259166</td><td>-0.1610565</td></tr>\n",
       "\t<tr><td> 3        </td><td>-11.31502 </td><td>1.094978  </td><td>-6.537516 </td><td>0.02756385</td><td>0.05583502</td><td>-0.1277988</td></tr>\n",
       "\t<tr><td> 4        </td><td>-11.69462 </td><td>1.078140  </td><td>-6.331776 </td><td>0.02606417</td><td>0.05276946</td><td>-0.1597652</td></tr>\n",
       "\t<tr><td> 5        </td><td>-11.83104 </td><td>1.073069  </td><td>-6.294786 </td><td>0.02866684</td><td>0.05511569</td><td>-0.1455473</td></tr>\n",
       "\t<tr><td> 6        </td><td>-12.05365 </td><td>1.102283  </td><td>-6.224737 </td><td>0.03538237</td><td>0.05667550</td><td>-0.1364075</td></tr>\n",
       "\t<tr><td> 7        </td><td>-11.13394 </td><td>1.119597  </td><td>-6.551033 </td><td>0.02742272</td><td>0.05491488</td><td>-0.1641403</td></tr>\n",
       "\t<tr><td> 8        </td><td>-11.72608 </td><td>1.087701  </td><td>-6.620432 </td><td>0.02898838</td><td>0.04991816</td><td>-0.1505059</td></tr>\n",
       "\t<tr><td> 9        </td><td>-10.49097 </td><td>1.091856  </td><td>-6.465293 </td><td>0.02620860</td><td>0.05205994</td><td>-0.1731661</td></tr>\n",
       "\t<tr><td>10        </td><td>-11.26378 </td><td>1.067261  </td><td>-6.379663 </td><td>0.02966102</td><td>0.05059529</td><td>-0.1521226</td></tr>\n",
       "</tbody>\n",
       "</table>\n"
      ],
      "text/latex": [
       "\\begin{tabular}{r|lllllll}\n",
       " folds & intercept & alcden & volatile.acidity & sulfconc & residual.sugar & fixed.acidity\\\\\n",
       "\\hline\n",
       "\t  1         & -11.30568  & 1.081768   & -6.230952  & 0.03099512 & 0.04501107 & -0.1558337\\\\\n",
       "\t  2         & -11.29605  & 1.083162   & -6.262449  & 0.03039384 & 0.05259166 & -0.1610565\\\\\n",
       "\t  3         & -11.31502  & 1.094978   & -6.537516  & 0.02756385 & 0.05583502 & -0.1277988\\\\\n",
       "\t  4         & -11.69462  & 1.078140   & -6.331776  & 0.02606417 & 0.05276946 & -0.1597652\\\\\n",
       "\t  5         & -11.83104  & 1.073069   & -6.294786  & 0.02866684 & 0.05511569 & -0.1455473\\\\\n",
       "\t  6         & -12.05365  & 1.102283   & -6.224737  & 0.03538237 & 0.05667550 & -0.1364075\\\\\n",
       "\t  7         & -11.13394  & 1.119597   & -6.551033  & 0.02742272 & 0.05491488 & -0.1641403\\\\\n",
       "\t  8         & -11.72608  & 1.087701   & -6.620432  & 0.02898838 & 0.04991816 & -0.1505059\\\\\n",
       "\t  9         & -10.49097  & 1.091856   & -6.465293  & 0.02620860 & 0.05205994 & -0.1731661\\\\\n",
       "\t 10         & -11.26378  & 1.067261   & -6.379663  & 0.02966102 & 0.05059529 & -0.1521226\\\\\n",
       "\\end{tabular}\n"
      ],
      "text/markdown": [
       "\n",
       "folds | intercept | alcden | volatile.acidity | sulfconc | residual.sugar | fixed.acidity | \n",
       "|---|---|---|---|---|---|---|---|---|---|\n",
       "|  1         | -11.30568  | 1.081768   | -6.230952  | 0.03099512 | 0.04501107 | -0.1558337 | \n",
       "|  2         | -11.29605  | 1.083162   | -6.262449  | 0.03039384 | 0.05259166 | -0.1610565 | \n",
       "|  3         | -11.31502  | 1.094978   | -6.537516  | 0.02756385 | 0.05583502 | -0.1277988 | \n",
       "|  4         | -11.69462  | 1.078140   | -6.331776  | 0.02606417 | 0.05276946 | -0.1597652 | \n",
       "|  5         | -11.83104  | 1.073069   | -6.294786  | 0.02866684 | 0.05511569 | -0.1455473 | \n",
       "|  6         | -12.05365  | 1.102283   | -6.224737  | 0.03538237 | 0.05667550 | -0.1364075 | \n",
       "|  7         | -11.13394  | 1.119597   | -6.551033  | 0.02742272 | 0.05491488 | -0.1641403 | \n",
       "|  8         | -11.72608  | 1.087701   | -6.620432  | 0.02898838 | 0.04991816 | -0.1505059 | \n",
       "|  9         | -10.49097  | 1.091856   | -6.465293  | 0.02620860 | 0.05205994 | -0.1731661 | \n",
       "| 10         | -11.26378  | 1.067261   | -6.379663  | 0.02966102 | 0.05059529 | -0.1521226 | \n",
       "\n",
       "\n"
      ],
      "text/plain": [
       "   folds intercept alcden   volatile.acidity sulfconc   residual.sugar\n",
       "1   1    -11.30568 1.081768 -6.230952        0.03099512 0.04501107    \n",
       "2   2    -11.29605 1.083162 -6.262449        0.03039384 0.05259166    \n",
       "3   3    -11.31502 1.094978 -6.537516        0.02756385 0.05583502    \n",
       "4   4    -11.69462 1.078140 -6.331776        0.02606417 0.05276946    \n",
       "5   5    -11.83104 1.073069 -6.294786        0.02866684 0.05511569    \n",
       "6   6    -12.05365 1.102283 -6.224737        0.03538237 0.05667550    \n",
       "7   7    -11.13394 1.119597 -6.551033        0.02742272 0.05491488    \n",
       "8   8    -11.72608 1.087701 -6.620432        0.02898838 0.04991816    \n",
       "9   9    -10.49097 1.091856 -6.465293        0.02620860 0.05205994    \n",
       "10 10    -11.26378 1.067261 -6.379663        0.02966102 0.05059529    \n",
       "   fixed.acidity\n",
       "1  -0.1558337   \n",
       "2  -0.1610565   \n",
       "3  -0.1277988   \n",
       "4  -0.1597652   \n",
       "5  -0.1455473   \n",
       "6  -0.1364075   \n",
       "7  -0.1641403   \n",
       "8  -0.1505059   \n",
       "9  -0.1731661   \n",
       "10 -0.1521226   "
      ]
     },
     "metadata": {},
     "output_type": "display_data"
    }
   ],
   "source": [
    "#display the coefficients of each fold\n",
    "stepcoeff <- data.frame(cbind(\"folds\" = 1:10, intercept, alcden, volatile.acidity,\n",
    "                               sulfconc, residual.sugar, fixed.acidity))\n",
    "stepcoeff"
   ]
  },
  {
   "cell_type": "code",
   "execution_count": 23,
   "metadata": {},
   "outputs": [
    {
     "data": {
      "text/html": [
       "<table>\n",
       "<thead><tr><th scope=col>folds</th><th scope=col>precision</th><th scope=col>recall</th><th scope=col>accuracy</th><th scope=col>fmeasure</th></tr></thead>\n",
       "<tbody>\n",
       "\t<tr><td> 1       </td><td>0.8008850</td><td>0.8743961</td><td>0.7738854</td><td>0.8360277</td></tr>\n",
       "\t<tr><td> 2       </td><td>0.8117647</td><td>0.8922414</td><td>0.7852941</td><td>0.8501027</td></tr>\n",
       "\t<tr><td> 3       </td><td>0.7806691</td><td>0.9130435</td><td>0.7723343</td><td>0.8416834</td></tr>\n",
       "\t<tr><td> 4       </td><td>0.7848101</td><td>0.9029126</td><td>0.7694805</td><td>0.8397291</td></tr>\n",
       "\t<tr><td> 5       </td><td>0.8461538</td><td>0.8311111</td><td>0.7777778</td><td>0.8385650</td></tr>\n",
       "\t<tr><td> 6       </td><td>0.7868852</td><td>0.8533333</td><td>0.7368421</td><td>0.8187633</td></tr>\n",
       "\t<tr><td> 7       </td><td>0.7500000</td><td>0.8155340</td><td>0.7210682</td><td>0.7813953</td></tr>\n",
       "\t<tr><td> 8       </td><td>0.8051948</td><td>0.8493151</td><td>0.7600000</td><td>0.8266667</td></tr>\n",
       "\t<tr><td> 9       </td><td>0.8207171</td><td>0.9115044</td><td>0.8030303</td><td>0.8637317</td></tr>\n",
       "\t<tr><td>10       </td><td>0.7448560</td><td>0.9004975</td><td>0.7537538</td><td>0.8153153</td></tr>\n",
       "</tbody>\n",
       "</table>\n"
      ],
      "text/latex": [
       "\\begin{tabular}{r|lllll}\n",
       " folds & precision & recall & accuracy & fmeasure\\\\\n",
       "\\hline\n",
       "\t  1        & 0.8008850 & 0.8743961 & 0.7738854 & 0.8360277\\\\\n",
       "\t  2        & 0.8117647 & 0.8922414 & 0.7852941 & 0.8501027\\\\\n",
       "\t  3        & 0.7806691 & 0.9130435 & 0.7723343 & 0.8416834\\\\\n",
       "\t  4        & 0.7848101 & 0.9029126 & 0.7694805 & 0.8397291\\\\\n",
       "\t  5        & 0.8461538 & 0.8311111 & 0.7777778 & 0.8385650\\\\\n",
       "\t  6        & 0.7868852 & 0.8533333 & 0.7368421 & 0.8187633\\\\\n",
       "\t  7        & 0.7500000 & 0.8155340 & 0.7210682 & 0.7813953\\\\\n",
       "\t  8        & 0.8051948 & 0.8493151 & 0.7600000 & 0.8266667\\\\\n",
       "\t  9        & 0.8207171 & 0.9115044 & 0.8030303 & 0.8637317\\\\\n",
       "\t 10        & 0.7448560 & 0.9004975 & 0.7537538 & 0.8153153\\\\\n",
       "\\end{tabular}\n"
      ],
      "text/markdown": [
       "\n",
       "folds | precision | recall | accuracy | fmeasure | \n",
       "|---|---|---|---|---|---|---|---|---|---|\n",
       "|  1        | 0.8008850 | 0.8743961 | 0.7738854 | 0.8360277 | \n",
       "|  2        | 0.8117647 | 0.8922414 | 0.7852941 | 0.8501027 | \n",
       "|  3        | 0.7806691 | 0.9130435 | 0.7723343 | 0.8416834 | \n",
       "|  4        | 0.7848101 | 0.9029126 | 0.7694805 | 0.8397291 | \n",
       "|  5        | 0.8461538 | 0.8311111 | 0.7777778 | 0.8385650 | \n",
       "|  6        | 0.7868852 | 0.8533333 | 0.7368421 | 0.8187633 | \n",
       "|  7        | 0.7500000 | 0.8155340 | 0.7210682 | 0.7813953 | \n",
       "|  8        | 0.8051948 | 0.8493151 | 0.7600000 | 0.8266667 | \n",
       "|  9        | 0.8207171 | 0.9115044 | 0.8030303 | 0.8637317 | \n",
       "| 10        | 0.7448560 | 0.9004975 | 0.7537538 | 0.8153153 | \n",
       "\n",
       "\n"
      ],
      "text/plain": [
       "   folds precision recall    accuracy  fmeasure \n",
       "1   1    0.8008850 0.8743961 0.7738854 0.8360277\n",
       "2   2    0.8117647 0.8922414 0.7852941 0.8501027\n",
       "3   3    0.7806691 0.9130435 0.7723343 0.8416834\n",
       "4   4    0.7848101 0.9029126 0.7694805 0.8397291\n",
       "5   5    0.8461538 0.8311111 0.7777778 0.8385650\n",
       "6   6    0.7868852 0.8533333 0.7368421 0.8187633\n",
       "7   7    0.7500000 0.8155340 0.7210682 0.7813953\n",
       "8   8    0.8051948 0.8493151 0.7600000 0.8266667\n",
       "9   9    0.8207171 0.9115044 0.8030303 0.8637317\n",
       "10 10    0.7448560 0.9004975 0.7537538 0.8153153"
      ]
     },
     "metadata": {},
     "output_type": "display_data"
    }
   ],
   "source": [
    "#create a model-comparison table using accuracy, precision, recall and fmeasure\n",
    "stepresults <- data.frame(cbind(\"folds\" = 1:10, precision, recall, accuracy, fmeasure))\n",
    "stepresults"
   ]
  },
  {
   "cell_type": "code",
   "execution_count": 24,
   "metadata": {},
   "outputs": [
    {
     "data": {
      "image/png": "[encoded data removed]",
      "text/plain": [
       "Plot with title \"ROC Comparison Curves for Stepwise Regression\""
      ]
     },
     "metadata": {},
     "output_type": "display_data"
    }
   ],
   "source": [
    "#Create the ROC curve to demonstrate true prediction rate vs false prediction rate for the stepwise regression models\n",
    "ROCsteppred = prediction(probabilities, actuals)\n",
    "ROCstepperf = performance(ROCsteppred, measure = \"tpr\", x.measure = \"fpr\")\n",
    "\n",
    "plot(ROCstepperf, main=\"ROC Comparison Curves for Stepwise Regression\", colorize=TRUE)\n",
    "abline(a=0, b=1)"
   ]
  },
  {
   "cell_type": "code",
   "execution_count": 25,
   "metadata": {},
   "outputs": [
    {
     "data": {
      "text/html": [
       "0.811538472164556"
      ],
      "text/latex": [
       "0.811538472164556"
      ],
      "text/markdown": [
       "0.811538472164556"
      ],
      "text/plain": [
       "[1] 0.8115385"
      ]
     },
     "metadata": {},
     "output_type": "display_data"
    }
   ],
   "source": [
    "ROCstepperf = performance(ROCsteppred, measure = \"auc\")\n",
    "mean(as.numeric(ROCstepperf@y.values))"
   ]
  },
  {
   "cell_type": "markdown",
   "metadata": {},
   "source": [
    "__Final Stepwise Regression Model__\n",
    "\n",
    "Because we used k-fold cross-validation, the performance of the stepwise final model needs to be represented as a mean of the cross-validation, with a confidence interval using a t-test."
   ]
  },
  {
   "cell_type": "code",
   "execution_count": 26,
   "metadata": {},
   "outputs": [
    {
     "data": {
      "text/plain": [
       "$precision\n",
       "\n",
       "\tOne Sample t-test\n",
       "\n",
       "data:  x\n",
       "t = 81.24, df = 9, p-value = 0.00000000000003285\n",
       "alternative hypothesis: true mean is not equal to 0\n",
       "95 percent confidence interval:\n",
       " 0.7711067 0.8152805\n",
       "sample estimates:\n",
       "mean of x \n",
       "0.7931936 \n",
       "\n",
       "\n",
       "$recall\n",
       "\n",
       "\tOne Sample t-test\n",
       "\n",
       "data:  x\n",
       "t = 78.753, df = 9, p-value = 0.00000000000004344\n",
       "alternative hypothesis: true mean is not equal to 0\n",
       "95 percent confidence interval:\n",
       " 0.8492725 0.8995053\n",
       "sample estimates:\n",
       "mean of x \n",
       "0.8743889 \n",
       "\n",
       "\n",
       "$accuracy\n",
       "\n",
       "\tOne Sample t-test\n",
       "\n",
       "data:  x\n",
       "t = 102.2, df = 9, p-value = 0.000000000000004172\n",
       "alternative hypothesis: true mean is not equal to 0\n",
       "95 percent confidence interval:\n",
       " 0.7484058 0.7822875\n",
       "sample estimates:\n",
       "mean of x \n",
       "0.7653466 \n",
       "\n",
       "\n",
       "$fmeasure\n",
       "\n",
       "\tOne Sample t-test\n",
       "\n",
       "data:  x\n",
       "t = 116.47, df = 9, p-value = 0.000000000000001288\n",
       "alternative hypothesis: true mean is not equal to 0\n",
       "95 percent confidence interval:\n",
       " 0.8150538 0.8473423\n",
       "sample estimates:\n",
       "mean of x \n",
       " 0.831198 \n",
       "\n"
      ]
     },
     "metadata": {},
     "output_type": "display_data"
    }
   ],
   "source": [
    "lapply(stepresults[,-1], function(x) t.test(x))"
   ]
  },
  {
   "cell_type": "markdown",
   "metadata": {},
   "source": [
    "Our final model as chosen by stepwise regression can be represented as follows:\n",
    "\n",
    "final.step = quality ~ alcden + volatile.acidity + sulfconc + residual.sugar + \n",
    "    fixed.acidity + pH\n",
    "\n",
    "Where alcden is the combined alcohol and density values and sulfconc is the ratio of free sulfur dioxide to total sulfur dioxide.\n",
    "\n",
    "This model showed the following measures in cross validation against the training data only:\n",
    "- Accuracy: 76.5% (74.8% to 78.2% confidence interval)\n",
    "- Recall: 87.4% (84.9% to 90.0% confidence interval)\n",
    "- Precision: 79.3% (77.1% to 81.5% confidence interval)\n",
    "- F-measure: 83.1% (81.5% to 84.7% confidence interval)\n",
    "\n",
    "The ROC curves for the cross-validation gave an average AUC (Area under curve) of 81.2%\n"
   ]
  },
  {
   "cell_type": "markdown",
   "metadata": {},
   "source": [
    "## Ridge Regression"
   ]
  },
  {
   "cell_type": "markdown",
   "metadata": {},
   "source": [
    "Now we will look at ridge regression as a method of choosing variables for our logistic regression.  Ridge regression involves tuning a parameter called lambda.  Ridge regression is a shrinkage method, which aims to constrain or regularise the coefficient estimate.  It aims to shrink the coefficients to zero.  Shrinking a coefficient estimate can reduce the variance of a model.\n",
    "\n",
    "We will use the glmnet package in R to calculate both the ridge and lasso regressions.  GLMNET requires a vector input and a matrix of predictors.  You also must specify alpha for GLMNET.  Alpha is set to zero for ridge regression and 1 for lasso regression.\n",
    "\n",
    "In all cases, we will use the same starting parameters as used in the full set of the stepwise regression.  This includes the engineered features alcohol+density and sulfur concentrate.  It removes the original features density, alchol, total sulfur dioxide and free sulfur dioxide.\n",
    "\n",
    "Unlike the stepwise regression function, the GLMNET package automatically performs k-fold cross validation on its lambda variable to ensure that the best lambda is selected."
   ]
  },
  {
   "cell_type": "code",
   "execution_count": 27,
   "metadata": {
    "collapsed": true
   },
   "outputs": [],
   "source": [
    "#set the matrix for glmnet\n",
    "x=model.matrix(quality ~ alcden+sulfconc+residual.sugar+fixed.acidity+volatile.acidity+citric.acid+chlorides+pH\n",
    "               ,train)[,-1]\n",
    "#convert the response variable into a vector\n",
    "y=train$quality"
   ]
  },
  {
   "cell_type": "code",
   "execution_count": 28,
   "metadata": {
    "scrolled": false
   },
   "outputs": [
    {
     "data": {
      "image/png": "[encoded data removed]",
      "text/plain": [
       "plot without title"
      ]
     },
     "metadata": {},
     "output_type": "display_data"
    }
   ],
   "source": [
    "#Using cross validation to get the best lambda\n",
    "grid=10^seq(10,-5,length=100) #range chosen to cover the null model containing only the intercept, to the least squares fit.\n",
    "cvfit = cv.glmnet(x, y, family = \"binomial\", type.measure = \"class\", alpha = 0, lambda = grid)\n",
    "plot(cvfit)"
   ]
  },
  {
   "cell_type": "markdown",
   "metadata": {},
   "source": [
    "The plot has identified two lambdas with a log(lambda) of between -13 and -2.  The lower lambda value correlates to the lambda that gives the minmium misclassification error, and the higher value provides the most regularised lambda value.  The upper lambda value is those that are within 1 standard error of the minimum.  Acknowledging that there may be error in the lambda cross validation process, I have chosen the 1se value to be on the side of caution.  (Friedman, Hastie and Tibshirani (2010))."
   ]
  },
  {
   "cell_type": "code",
   "execution_count": 29,
   "metadata": {},
   "outputs": [
    {
     "data": {
      "text/html": [
       "0.0215443469003188"
      ],
      "text/latex": [
       "0.0215443469003188"
      ],
      "text/markdown": [
       "0.0215443469003188"
      ],
      "text/plain": [
       "[1] 0.02154435"
      ]
     },
     "metadata": {},
     "output_type": "display_data"
    }
   ],
   "source": [
    "#set lambda to the 1 standard error identified by cross validation.\n",
    "ridgelambda = cvfit$lambda.1se\n",
    "ridgelambda"
   ]
  },
  {
   "cell_type": "code",
   "execution_count": 30,
   "metadata": {
    "collapsed": true
   },
   "outputs": [],
   "source": [
    "#create lists to hold objects\n",
    "probabilities <- list()\n",
    "actuals <- list()\n",
    "preds <- list()\n",
    "\n",
    "#create vectors to hold numbers for model metrics\n",
    "accuracy <- vector()\n",
    "precision <- vector()\n",
    "recall <- vector()\n",
    "fmeasure <- vector()\n",
    "\n",
    "#create vectors to hold the coefficients\n",
    "intercept <- vector()\n",
    "alcden <- vector()\n",
    "sulfconc <- vector()\n",
    "residual.sugar <- vector()\n",
    "fixed.acidity <- vector()\n",
    "volatile.acidity <- vector()\n",
    "citric.acid <- vector()\n",
    "chlorides <- vector()\n",
    "pH <- vector()\n",
    "\n",
    "#set the cross-validation number to 10\n",
    "k = 10\n",
    "\n",
    "#loop through the cross-validation\n",
    "for(j in 1:k){\n",
    "    \n",
    "    #set the data for each fold\n",
    "    x1 = model.matrix((quality ~ alcden+sulfconc+residual.sugar+fixed.acidity+volatile.acidity+citric.acid+chlorides+pH),\n",
    "                      train[folds==j,])[,-1]\n",
    "    x2 = model.matrix((quality ~ alcden+sulfconc+residual.sugar+fixed.acidity+volatile.acidity+citric.acid+chlorides+pH),\n",
    "                      train[folds!=j,])[,-1]\n",
    "    y1 = train$quality[folds == j]\n",
    "    y2 = train$quality[folds != j]\n",
    "\n",
    "    #set the model\n",
    "    wine.ridge = glmnet(x2, y2, family = \"binomial\", alpha = 0, lambda = ridgelambda)\n",
    "    \n",
    "\n",
    "    #store the objects for creating the confusion matrix\n",
    "    probabilities[[j]] <- predict(wine.ridge, x1, type = \"response\")\n",
    "    actuals[[j]] <- y1\n",
    "    preds[[j]] = ifelse(predict(wine.ridge, x1, type = \"response\") <0.5, \"bad\", \"good\")\n",
    "    \n",
    "    cm <- confusionMatrix(preds[[j]], actuals[[j]])\n",
    "    table <- cm$table\n",
    "    \n",
    "    #store the measurement values from the confusion matrix\n",
    "    accuracy[j] <- confusionMatrix(preds[[j]], actuals[[j]])$overall['Accuracy']\n",
    "    precision[j] <- table[2, 2] / sum(table[2,])\n",
    "    recall[j] <- table[2, 2] / sum(table[,2]) \n",
    "    fmeasure[j] <- 2 * precision[[j]] * recall[[j]] / (precision[[j]] + recall[[j]]) #f-measure\n",
    "    \n",
    "    #store the coefficients of the model for each iteration through the cross validation\n",
    "    intercept[j] <- as.numeric(coef(wine.ridge)[1])\n",
    "    alcden[j] <- as.numeric(coef(wine.ridge)[2])\n",
    "    sulfconc[j] <- as.numeric(coef(wine.ridge)[3])\n",
    "    residual.sugar[j] <- as.numeric(coef(wine.ridge)[4])\n",
    "    fixed.acidity[j] <- as.numeric(coef(wine.ridge)[5])\n",
    "    volatile.acidity[j] <- as.numeric(coef(wine.ridge)[6])\n",
    "    citric.acid[j] <- as.numeric(coef(wine.ridge)[7])\n",
    "    chlorides[j] <- as.numeric(coef(wine.ridge)[8])\n",
    "    pH[j] <- as.numeric(coef(wine.ridge)[9])\n",
    "    \n",
    "    \n",
    "  }"
   ]
  },
  {
   "cell_type": "code",
   "execution_count": 31,
   "metadata": {},
   "outputs": [
    {
     "data": {
      "text/html": [
       "<table>\n",
       "<thead><tr><th scope=col>folds</th><th scope=col>intercept</th><th scope=col>alcden</th><th scope=col>sulfconc</th><th scope=col>residual.sugar</th><th scope=col>fixed.acidity</th><th scope=col>volatile.acidity</th><th scope=col>citric.acid</th><th scope=col>chlorides</th><th scope=col>pH</th></tr></thead>\n",
       "<tbody>\n",
       "\t<tr><td> 1        </td><td>-8.785970 </td><td>0.8360019 </td><td>0.02906768</td><td>0.02070503</td><td>-0.1445812</td><td>-4.913142 </td><td>0.3209501 </td><td>-3.523068 </td><td>0.7585930 </td></tr>\n",
       "\t<tr><td> 2        </td><td>-8.629237 </td><td>0.8281201 </td><td>0.02880449</td><td>0.02647030</td><td>-0.1589530</td><td>-4.893907 </td><td>0.5668547 </td><td>-4.861962 </td><td>0.7478953 </td></tr>\n",
       "\t<tr><td> 3        </td><td>-8.691503 </td><td>0.8397936 </td><td>0.02629306</td><td>0.02921656</td><td>-0.1197184</td><td>-5.159747 </td><td>0.3593836 </td><td>-4.080600 </td><td>0.6974304 </td></tr>\n",
       "\t<tr><td> 4        </td><td>-9.095680 </td><td>0.8324728 </td><td>0.02521037</td><td>0.02670425</td><td>-0.1572247</td><td>-4.987720 </td><td>0.4909259 </td><td>-3.963779 </td><td>0.9098970 </td></tr>\n",
       "\t<tr><td> 5        </td><td>-8.974995 </td><td>0.8213741 </td><td>0.02724156</td><td>0.02884470</td><td>-0.1409638</td><td>-4.966660 </td><td>0.3471147 </td><td>-5.288291 </td><td>0.8745735 </td></tr>\n",
       "\t<tr><td> 6        </td><td>-9.136906 </td><td>0.8445738 </td><td>0.03269261</td><td>0.03023480</td><td>-0.1330481</td><td>-4.924916 </td><td>0.2790299 </td><td>-4.237391 </td><td>0.7824488 </td></tr>\n",
       "\t<tr><td> 7        </td><td>-8.523776 </td><td>0.8591483 </td><td>0.02616280</td><td>0.02849175</td><td>-0.1511514</td><td>-5.148657 </td><td>0.3022898 </td><td>-3.501545 </td><td>0.6493911 </td></tr>\n",
       "\t<tr><td> 8        </td><td>-9.061619 </td><td>0.8385725 </td><td>0.02739994</td><td>0.02504083</td><td>-0.1422557</td><td>-5.215084 </td><td>0.3861085 </td><td>-3.707256 </td><td>0.8588129 </td></tr>\n",
       "\t<tr><td> 9        </td><td>-7.985129 </td><td>0.8338201 </td><td>0.02541625</td><td>0.02547428</td><td>-0.1682792</td><td>-5.052010 </td><td>0.5535498 </td><td>-4.701876 </td><td>0.5888852 </td></tr>\n",
       "\t<tr><td>10        </td><td>-8.645649 </td><td>0.8216907 </td><td>0.02808043</td><td>0.02549958</td><td>-0.1451336</td><td>-5.068691 </td><td>0.3943528 </td><td>-4.039165 </td><td>0.7854226 </td></tr>\n",
       "</tbody>\n",
       "</table>\n"
      ],
      "text/latex": [
       "\\begin{tabular}{r|llllllllll}\n",
       " folds & intercept & alcden & sulfconc & residual.sugar & fixed.acidity & volatile.acidity & citric.acid & chlorides & pH\\\\\n",
       "\\hline\n",
       "\t  1         & -8.785970  & 0.8360019  & 0.02906768 & 0.02070503 & -0.1445812 & -4.913142  & 0.3209501  & -3.523068  & 0.7585930 \\\\\n",
       "\t  2         & -8.629237  & 0.8281201  & 0.02880449 & 0.02647030 & -0.1589530 & -4.893907  & 0.5668547  & -4.861962  & 0.7478953 \\\\\n",
       "\t  3         & -8.691503  & 0.8397936  & 0.02629306 & 0.02921656 & -0.1197184 & -5.159747  & 0.3593836  & -4.080600  & 0.6974304 \\\\\n",
       "\t  4         & -9.095680  & 0.8324728  & 0.02521037 & 0.02670425 & -0.1572247 & -4.987720  & 0.4909259  & -3.963779  & 0.9098970 \\\\\n",
       "\t  5         & -8.974995  & 0.8213741  & 0.02724156 & 0.02884470 & -0.1409638 & -4.966660  & 0.3471147  & -5.288291  & 0.8745735 \\\\\n",
       "\t  6         & -9.136906  & 0.8445738  & 0.03269261 & 0.03023480 & -0.1330481 & -4.924916  & 0.2790299  & -4.237391  & 0.7824488 \\\\\n",
       "\t  7         & -8.523776  & 0.8591483  & 0.02616280 & 0.02849175 & -0.1511514 & -5.148657  & 0.3022898  & -3.501545  & 0.6493911 \\\\\n",
       "\t  8         & -9.061619  & 0.8385725  & 0.02739994 & 0.02504083 & -0.1422557 & -5.215084  & 0.3861085  & -3.707256  & 0.8588129 \\\\\n",
       "\t  9         & -7.985129  & 0.8338201  & 0.02541625 & 0.02547428 & -0.1682792 & -5.052010  & 0.5535498  & -4.701876  & 0.5888852 \\\\\n",
       "\t 10         & -8.645649  & 0.8216907  & 0.02808043 & 0.02549958 & -0.1451336 & -5.068691  & 0.3943528  & -4.039165  & 0.7854226 \\\\\n",
       "\\end{tabular}\n"
      ],
      "text/markdown": [
       "\n",
       "folds | intercept | alcden | sulfconc | residual.sugar | fixed.acidity | volatile.acidity | citric.acid | chlorides | pH | \n",
       "|---|---|---|---|---|---|---|---|---|---|\n",
       "|  1         | -8.785970  | 0.8360019  | 0.02906768 | 0.02070503 | -0.1445812 | -4.913142  | 0.3209501  | -3.523068  | 0.7585930  | \n",
       "|  2         | -8.629237  | 0.8281201  | 0.02880449 | 0.02647030 | -0.1589530 | -4.893907  | 0.5668547  | -4.861962  | 0.7478953  | \n",
       "|  3         | -8.691503  | 0.8397936  | 0.02629306 | 0.02921656 | -0.1197184 | -5.159747  | 0.3593836  | -4.080600  | 0.6974304  | \n",
       "|  4         | -9.095680  | 0.8324728  | 0.02521037 | 0.02670425 | -0.1572247 | -4.987720  | 0.4909259  | -3.963779  | 0.9098970  | \n",
       "|  5         | -8.974995  | 0.8213741  | 0.02724156 | 0.02884470 | -0.1409638 | -4.966660  | 0.3471147  | -5.288291  | 0.8745735  | \n",
       "|  6         | -9.136906  | 0.8445738  | 0.03269261 | 0.03023480 | -0.1330481 | -4.924916  | 0.2790299  | -4.237391  | 0.7824488  | \n",
       "|  7         | -8.523776  | 0.8591483  | 0.02616280 | 0.02849175 | -0.1511514 | -5.148657  | 0.3022898  | -3.501545  | 0.6493911  | \n",
       "|  8         | -9.061619  | 0.8385725  | 0.02739994 | 0.02504083 | -0.1422557 | -5.215084  | 0.3861085  | -3.707256  | 0.8588129  | \n",
       "|  9         | -7.985129  | 0.8338201  | 0.02541625 | 0.02547428 | -0.1682792 | -5.052010  | 0.5535498  | -4.701876  | 0.5888852  | \n",
       "| 10         | -8.645649  | 0.8216907  | 0.02808043 | 0.02549958 | -0.1451336 | -5.068691  | 0.3943528  | -4.039165  | 0.7854226  | \n",
       "\n",
       "\n"
      ],
      "text/plain": [
       "   folds intercept alcden    sulfconc   residual.sugar fixed.acidity\n",
       "1   1    -8.785970 0.8360019 0.02906768 0.02070503     -0.1445812   \n",
       "2   2    -8.629237 0.8281201 0.02880449 0.02647030     -0.1589530   \n",
       "3   3    -8.691503 0.8397936 0.02629306 0.02921656     -0.1197184   \n",
       "4   4    -9.095680 0.8324728 0.02521037 0.02670425     -0.1572247   \n",
       "5   5    -8.974995 0.8213741 0.02724156 0.02884470     -0.1409638   \n",
       "6   6    -9.136906 0.8445738 0.03269261 0.03023480     -0.1330481   \n",
       "7   7    -8.523776 0.8591483 0.02616280 0.02849175     -0.1511514   \n",
       "8   8    -9.061619 0.8385725 0.02739994 0.02504083     -0.1422557   \n",
       "9   9    -7.985129 0.8338201 0.02541625 0.02547428     -0.1682792   \n",
       "10 10    -8.645649 0.8216907 0.02808043 0.02549958     -0.1451336   \n",
       "   volatile.acidity citric.acid chlorides pH       \n",
       "1  -4.913142        0.3209501   -3.523068 0.7585930\n",
       "2  -4.893907        0.5668547   -4.861962 0.7478953\n",
       "3  -5.159747        0.3593836   -4.080600 0.6974304\n",
       "4  -4.987720        0.4909259   -3.963779 0.9098970\n",
       "5  -4.966660        0.3471147   -5.288291 0.8745735\n",
       "6  -4.924916        0.2790299   -4.237391 0.7824488\n",
       "7  -5.148657        0.3022898   -3.501545 0.6493911\n",
       "8  -5.215084        0.3861085   -3.707256 0.8588129\n",
       "9  -5.052010        0.5535498   -4.701876 0.5888852\n",
       "10 -5.068691        0.3943528   -4.039165 0.7854226"
      ]
     },
     "metadata": {},
     "output_type": "display_data"
    }
   ],
   "source": [
    "#display the coefficients of each fold\n",
    "ridgecoeff <- data.frame(cbind(\"folds\" = 1:10, intercept, alcden, sulfconc,\n",
    "                               residual.sugar, fixed.acidity, volatile.acidity,\n",
    "                              citric.acid, chlorides, pH))\n",
    "ridgecoeff"
   ]
  },
  {
   "cell_type": "markdown",
   "metadata": {},
   "source": [
    "The final variables chosen by Ridge regression include all variables that the model was given.  No improvements were made to the complexity of the model, so the final variables used are:\n",
    "- alcden\n",
    "- sulfconc\n",
    "- residual.sugar\n",
    "- fixed.acidity\n",
    "- volatile.acidity\n",
    "- citric.acid\n",
    "- chlorides\n",
    "- pH\n"
   ]
  },
  {
   "cell_type": "code",
   "execution_count": 32,
   "metadata": {},
   "outputs": [
    {
     "data": {
      "text/html": [
       "<table>\n",
       "<thead><tr><th scope=col>folds</th><th scope=col>precision</th><th scope=col>recall</th><th scope=col>accuracy</th><th scope=col>fmeasure</th></tr></thead>\n",
       "<tbody>\n",
       "\t<tr><td> 1       </td><td>0.8000000</td><td>0.8888889</td><td>0.7802548</td><td>0.8421053</td></tr>\n",
       "\t<tr><td> 2       </td><td>0.7886792</td><td>0.9008621</td><td>0.7676471</td><td>0.8410463</td></tr>\n",
       "\t<tr><td> 3       </td><td>0.7720588</td><td>0.9130435</td><td>0.7636888</td><td>0.8366534</td></tr>\n",
       "\t<tr><td> 4       </td><td>0.7560976</td><td>0.9029126</td><td>0.7402597</td><td>0.8230088</td></tr>\n",
       "\t<tr><td> 5       </td><td>0.8362832</td><td>0.8400000</td><td>0.7746914</td><td>0.8381375</td></tr>\n",
       "\t<tr><td> 6       </td><td>0.7845528</td><td>0.8577778</td><td>0.7368421</td><td>0.8195329</td></tr>\n",
       "\t<tr><td> 7       </td><td>0.7238494</td><td>0.8398058</td><td>0.7062315</td><td>0.7775281</td></tr>\n",
       "\t<tr><td> 8       </td><td>0.7901235</td><td>0.8767123</td><td>0.7600000</td><td>0.8311688</td></tr>\n",
       "\t<tr><td> 9       </td><td>0.8054475</td><td>0.9159292</td><td>0.7909091</td><td>0.8571429</td></tr>\n",
       "\t<tr><td>10       </td><td>0.7176471</td><td>0.9104478</td><td>0.7297297</td><td>0.8026316</td></tr>\n",
       "</tbody>\n",
       "</table>\n"
      ],
      "text/latex": [
       "\\begin{tabular}{r|lllll}\n",
       " folds & precision & recall & accuracy & fmeasure\\\\\n",
       "\\hline\n",
       "\t  1        & 0.8000000 & 0.8888889 & 0.7802548 & 0.8421053\\\\\n",
       "\t  2        & 0.7886792 & 0.9008621 & 0.7676471 & 0.8410463\\\\\n",
       "\t  3        & 0.7720588 & 0.9130435 & 0.7636888 & 0.8366534\\\\\n",
       "\t  4        & 0.7560976 & 0.9029126 & 0.7402597 & 0.8230088\\\\\n",
       "\t  5        & 0.8362832 & 0.8400000 & 0.7746914 & 0.8381375\\\\\n",
       "\t  6        & 0.7845528 & 0.8577778 & 0.7368421 & 0.8195329\\\\\n",
       "\t  7        & 0.7238494 & 0.8398058 & 0.7062315 & 0.7775281\\\\\n",
       "\t  8        & 0.7901235 & 0.8767123 & 0.7600000 & 0.8311688\\\\\n",
       "\t  9        & 0.8054475 & 0.9159292 & 0.7909091 & 0.8571429\\\\\n",
       "\t 10        & 0.7176471 & 0.9104478 & 0.7297297 & 0.8026316\\\\\n",
       "\\end{tabular}\n"
      ],
      "text/markdown": [
       "\n",
       "folds | precision | recall | accuracy | fmeasure | \n",
       "|---|---|---|---|---|---|---|---|---|---|\n",
       "|  1        | 0.8000000 | 0.8888889 | 0.7802548 | 0.8421053 | \n",
       "|  2        | 0.7886792 | 0.9008621 | 0.7676471 | 0.8410463 | \n",
       "|  3        | 0.7720588 | 0.9130435 | 0.7636888 | 0.8366534 | \n",
       "|  4        | 0.7560976 | 0.9029126 | 0.7402597 | 0.8230088 | \n",
       "|  5        | 0.8362832 | 0.8400000 | 0.7746914 | 0.8381375 | \n",
       "|  6        | 0.7845528 | 0.8577778 | 0.7368421 | 0.8195329 | \n",
       "|  7        | 0.7238494 | 0.8398058 | 0.7062315 | 0.7775281 | \n",
       "|  8        | 0.7901235 | 0.8767123 | 0.7600000 | 0.8311688 | \n",
       "|  9        | 0.8054475 | 0.9159292 | 0.7909091 | 0.8571429 | \n",
       "| 10        | 0.7176471 | 0.9104478 | 0.7297297 | 0.8026316 | \n",
       "\n",
       "\n"
      ],
      "text/plain": [
       "   folds precision recall    accuracy  fmeasure \n",
       "1   1    0.8000000 0.8888889 0.7802548 0.8421053\n",
       "2   2    0.7886792 0.9008621 0.7676471 0.8410463\n",
       "3   3    0.7720588 0.9130435 0.7636888 0.8366534\n",
       "4   4    0.7560976 0.9029126 0.7402597 0.8230088\n",
       "5   5    0.8362832 0.8400000 0.7746914 0.8381375\n",
       "6   6    0.7845528 0.8577778 0.7368421 0.8195329\n",
       "7   7    0.7238494 0.8398058 0.7062315 0.7775281\n",
       "8   8    0.7901235 0.8767123 0.7600000 0.8311688\n",
       "9   9    0.8054475 0.9159292 0.7909091 0.8571429\n",
       "10 10    0.7176471 0.9104478 0.7297297 0.8026316"
      ]
     },
     "metadata": {},
     "output_type": "display_data"
    }
   ],
   "source": [
    "#create a model-comparison table using accuracy, precision, recall and fmeasure\n",
    "ridgeresults <- data.frame(cbind(\"folds\" = 1:10, precision, recall, accuracy, fmeasure))\n",
    "ridgeresults"
   ]
  },
  {
   "cell_type": "code",
   "execution_count": 33,
   "metadata": {
    "scrolled": false
   },
   "outputs": [
    {
     "data": {
      "image/png": "[encoded data removed]",
      "text/plain": [
       "Plot with title \"ROC Comparison Curves for Ridge Regression\""
      ]
     },
     "metadata": {},
     "output_type": "display_data"
    }
   ],
   "source": [
    "#Create the ROC curve to demonstrate true prediction rate vs false prediction rate for the cross validated Ridge Regression models\n",
    "ROCridgepred = prediction(probabilities, actuals)\n",
    "ROCridgeperf = performance(ROCridgepred, measure = \"tpr\", x.measure = \"fpr\")\n",
    "\n",
    "plot(ROCridgeperf, main=\"ROC Comparison Curves for Ridge Regression\", colorize=TRUE)\n",
    "abline(a=0, b=1) #add a trend line"
   ]
  },
  {
   "cell_type": "code",
   "execution_count": 34,
   "metadata": {},
   "outputs": [
    {
     "data": {
      "text/html": [
       "0.811538472164556"
      ],
      "text/latex": [
       "0.811538472164556"
      ],
      "text/markdown": [
       "0.811538472164556"
      ],
      "text/plain": [
       "[1] 0.8115385"
      ]
     },
     "metadata": {},
     "output_type": "display_data"
    }
   ],
   "source": [
    "ROCridgeperf = performance(ROCsteppred, measure = \"auc\")\n",
    "mean(as.numeric(ROCridgeperf@y.values))"
   ]
  },
  {
   "cell_type": "markdown",
   "metadata": {},
   "source": [
    "__Final Ridge Regression Model__\n",
    "\n",
    "We can now look at the predicting power of our ridge regression model using a t-test."
   ]
  },
  {
   "cell_type": "code",
   "execution_count": 35,
   "metadata": {},
   "outputs": [
    {
     "data": {
      "text/plain": [
       "$precision\n",
       "\n",
       "\tOne Sample t-test\n",
       "\n",
       "data:  x\n",
       "t = 67.26, df = 9, p-value = 0.0000000000001793\n",
       "alternative hypothesis: true mean is not equal to 0\n",
       "95 percent confidence interval:\n",
       " 0.7513253 0.8036225\n",
       "sample estimates:\n",
       "mean of x \n",
       "0.7774739 \n",
       "\n",
       "\n",
       "$recall\n",
       "\n",
       "\tOne Sample t-test\n",
       "\n",
       "data:  x\n",
       "t = 94.697, df = 9, p-value = 0.000000000000008281\n",
       "alternative hypothesis: true mean is not equal to 0\n",
       "95 percent confidence interval:\n",
       " 0.8635055 0.9057705\n",
       "sample estimates:\n",
       "mean of x \n",
       " 0.884638 \n",
       "\n",
       "\n",
       "$accuracy\n",
       "\n",
       "\tOne Sample t-test\n",
       "\n",
       "data:  x\n",
       "t = 91.416, df = 9, p-value = 0.00000000000001137\n",
       "alternative hypothesis: true mean is not equal to 0\n",
       "95 percent confidence interval:\n",
       " 0.7363416 0.7737092\n",
       "sample estimates:\n",
       "mean of x \n",
       "0.7550254 \n",
       "\n",
       "\n",
       "$fmeasure\n",
       "\n",
       "\tOne Sample t-test\n",
       "\n",
       "data:  x\n",
       "t = 114.65, df = 9, p-value = 0.000000000000001483\n",
       "alternative hypothesis: true mean is not equal to 0\n",
       "95 percent confidence interval:\n",
       " 0.8105802 0.8432109\n",
       "sample estimates:\n",
       "mean of x \n",
       "0.8268956 \n",
       "\n"
      ]
     },
     "metadata": {},
     "output_type": "display_data"
    }
   ],
   "source": [
    "lapply(ridgeresults[,-1], function(x) t.test(x))"
   ]
  },
  {
   "cell_type": "markdown",
   "metadata": {},
   "source": [
    "Our final model as chosen by ridge regression uses all of the coefficients in the model (after feature engineering):\n",
    "\n",
    "quality ~ alcden+sulfconc+residual.sugar+fixed.acidity+volatile.acidity+citric.acid+chlorides+pH\n",
    "\n",
    "And it uses a lambda value of ~ 0.02 (2dp).  \n",
    "\n",
    "Alcden continues to represent the combined alcohol and density values and sulfconc is the ratio of free sulfur dioxide to total sulfur dioxide.\n",
    "\n",
    "The model showed the following performance measures in cross validation against the training data only:\n",
    "- Accuracy: 75.5% (73.6% to 77.4% confidence interval)\n",
    "- Recall: 88.5% (86.4% to 90.6% confidence interval)\n",
    "- Precision: 77.75% (75.1% to 80.4% confidence interval)\n",
    "- Fmeasure: 82.7% (81.1% to 84.3% confidence interval)\n",
    "\n",
    "The ROC curves for the cross-validation gave an average AUC (Area under curve) of 81.2%"
   ]
  },
  {
   "cell_type": "markdown",
   "metadata": {},
   "source": [
    "## Lasso Regression"
   ]
  },
  {
   "cell_type": "markdown",
   "metadata": {},
   "source": [
    "Lasso regression is also calculated in R with the GLMNET package.  We will repeat the process above but using alpha - 1, to let the GLMNET package know that it is to use the lasso regression."
   ]
  },
  {
   "cell_type": "code",
   "execution_count": null,
   "metadata": {
    "collapsed": true
   },
   "outputs": [],
   "source": [
    "#set the matrix for glmnet\n",
    "x=model.matrix(quality ~ alcden+sulfconc+residual.sugar+fixed.acidity+volatile.acidity+citric.acid+chlorides+pH\n",
    "               ,train)[,-1]\n",
    "#convert the response variable into a vector\n",
    "y=train$quality"
   ]
  },
  {
   "cell_type": "code",
   "execution_count": 39,
   "metadata": {},
   "outputs": [
    {
     "data": {
      "image/png": "[encoded data removed]",
      "text/plain": [
       "plot without title"
      ]
     },
     "metadata": {},
     "output_type": "display_data"
    }
   ],
   "source": [
    "#Using cross validation to get the best lambda\n",
    "grid = 10^seq(10,-2,length=100)\n",
    "cvfit = cv.glmnet(x, y, family = \"binomial\", type.measure = \"class\", alpha = 1, nlambda=100)\n",
    "plot(cvfit)"
   ]
  },
  {
   "cell_type": "code",
   "execution_count": 40,
   "metadata": {},
   "outputs": [
    {
     "data": {
      "text/html": [
       "0.0119140239688729"
      ],
      "text/latex": [
       "0.0119140239688729"
      ],
      "text/markdown": [
       "0.0119140239688729"
      ],
      "text/plain": [
       "[1] 0.01191402"
      ]
     },
     "metadata": {},
     "output_type": "display_data"
    }
   ],
   "source": [
    "#again we will set lambda to 1 standard error above the minimum, as explained previously\n",
    "lassolambda <- cvfit$lambda.1se\n",
    "lassolambda"
   ]
  },
  {
   "cell_type": "code",
   "execution_count": 41,
   "metadata": {
    "collapsed": true
   },
   "outputs": [],
   "source": [
    "#create lists to hold objects\n",
    "probabilities <- list()\n",
    "actuals <- list()\n",
    "preds <- list()\n",
    "\n",
    "#create vectors to hold numbers for model metrics\n",
    "accuracy <- vector()\n",
    "precision <- vector()\n",
    "recall <- vector()\n",
    "fmeasure <- vector()\n",
    "\n",
    "#create vectors to hold the coefficients\n",
    "intercept <- vector()\n",
    "alcden <- vector()\n",
    "sulfconc <- vector()\n",
    "residual.sugar <- vector()\n",
    "fixed.acidity <- vector()\n",
    "volatile.acidity <- vector()\n",
    "citric.acid <- vector()\n",
    "chlorides <- vector()\n",
    "pH <- vector()\n",
    "\n",
    "#set the cross-validation number to 10\n",
    "k = 10\n",
    "\n",
    "#loop through the cross-validation\n",
    "for(j in 1:k){\n",
    "    \n",
    "    #set the data for each fold\n",
    "    x1 = model.matrix((quality ~ alcden+sulfconc+residual.sugar+fixed.acidity+volatile.acidity+citric.acid+chlorides+pH),\n",
    "                      train[folds==j,])[,-1]\n",
    "    x2 = model.matrix((quality ~ alcden+sulfconc+residual.sugar+fixed.acidity+volatile.acidity+citric.acid+chlorides+pH),\n",
    "                      train[folds!=j,])[,-1]\n",
    "    y1 = train$quality[folds == j]\n",
    "    y2 = train$quality[folds != j]\n",
    "\n",
    "    #set the model\n",
    "    wine.lasso = glmnet(x2, y2, family = \"binomial\", alpha = 1, lambda = lassolambda)\n",
    "\n",
    "    #store the objects for creating the confusion matrix\n",
    "    probabilities[[j]] <- predict(wine.lasso, x1, type = \"response\")\n",
    "    actuals[[j]] <- y1\n",
    "    preds[[j]] = ifelse(predict(wine.lasso, x1, type = \"response\") <0.5, \"bad\", \"good\")\n",
    "    \n",
    "    cm <- confusionMatrix(preds[[j]], actuals[[j]])\n",
    "    table <- cm$table\n",
    "    \n",
    "    #store the measurement values from the confusion matrix\n",
    "    accuracy[j] <- confusionMatrix(preds[[j]], actuals[[j]])$overall['Accuracy']\n",
    "    precision[j] <- table[2, 2] / sum(table[2,])\n",
    "    recall[j] <- table[2, 2] / sum(table[,2]) \n",
    "    fmeasure[j] <- 2 * precision[[j]] * recall[[j]] / (precision[[j]] + recall[[j]]) #f-measure\n",
    "    \n",
    "    #store the coefficients of the model for each iteration through the cross validation\n",
    "    intercept[j] <- as.numeric(coef(wine.lasso)[1])\n",
    "    alcden[j] <- as.numeric(coef(wine.lasso)[2])\n",
    "    sulfconc[j] <- as.numeric(coef(wine.lasso)[3])\n",
    "    residual.sugar[j] <- as.numeric(coef(wine.lasso)[4])\n",
    "    fixed.acidity[j] <- as.numeric(coef(wine.lasso)[5])\n",
    "    volatile.acidity[j] <- as.numeric(coef(wine.lasso)[6])\n",
    "    citric.acid[j] <- as.numeric(coef(wine.lasso)[7])\n",
    "    chlorides[j] <- as.numeric(coef(wine.lasso)[8])\n",
    "    pH[j] <- as.numeric(coef(wine.lasso)[9])\n",
    "    }"
   ]
  },
  {
   "cell_type": "code",
   "execution_count": 42,
   "metadata": {},
   "outputs": [
    {
     "data": {
      "text/html": [
       "<table>\n",
       "<thead><tr><th scope=col>folds</th><th scope=col>intercept</th><th scope=col>alcden</th><th scope=col>sulfconc</th><th scope=col>residual.sugar</th><th scope=col>fixed.acidity</th><th scope=col>volatile.acidity</th><th scope=col>citric.acid</th><th scope=col>chlorides</th><th scope=col>pH</th></tr></thead>\n",
       "<tbody>\n",
       "\t<tr><td> 1         </td><td>-8.779664  </td><td>0.9172427  </td><td>0.02580654 </td><td>0.01633921 </td><td>-0.09301512</td><td>-5.101515  </td><td>0          </td><td> 0.00000000</td><td>0.4170566  </td></tr>\n",
       "\t<tr><td> 2         </td><td>-8.553642  </td><td>0.9095637  </td><td>0.02531757 </td><td>0.02306164 </td><td>-0.09996637</td><td>-5.117130  </td><td>0          </td><td>-1.08177817</td><td>0.3928269  </td></tr>\n",
       "\t<tr><td> 3         </td><td>-8.721891  </td><td>0.9272725  </td><td>0.02240811 </td><td>0.02617407 </td><td>-0.06588012</td><td>-5.394307  </td><td>0          </td><td>-0.22180318</td><td>0.3487465  </td></tr>\n",
       "\t<tr><td> 4         </td><td>-9.089743  </td><td>0.9157652  </td><td>0.02129844 </td><td>0.02401469 </td><td>-0.10058415</td><td>-5.204501  </td><td>0          </td><td>-0.22245146</td><td>0.5694414  </td></tr>\n",
       "\t<tr><td> 5         </td><td>-9.001919  </td><td>0.8983083  </td><td>0.02365347 </td><td>0.02512616 </td><td>-0.08765772</td><td>-5.137317  </td><td>0          </td><td>-1.56654939</td><td>0.5529323  </td></tr>\n",
       "\t<tr><td> 6         </td><td>-9.281812  </td><td>0.9311744  </td><td>0.02966912 </td><td>0.02690877 </td><td>-0.07980084</td><td>-5.086883  </td><td>0          </td><td>-0.65333142</td><td>0.4560408  </td></tr>\n",
       "\t<tr><td> 7         </td><td>-8.572844  </td><td>0.9506698  </td><td>0.02223334 </td><td>0.02559904 </td><td>-0.10122389</td><td>-5.367071  </td><td>0          </td><td> 0.00000000</td><td>0.2996486  </td></tr>\n",
       "\t<tr><td> 8         </td><td>-9.087937  </td><td>0.9219633  </td><td>0.02362938 </td><td>0.02125047 </td><td>-0.08804421</td><td>-5.467927  </td><td>0          </td><td>-0.01305913</td><td>0.5278756  </td></tr>\n",
       "\t<tr><td> 9         </td><td>-7.784105  </td><td>0.9182348  </td><td>0.02138886 </td><td>0.02246420 </td><td>-0.11388767</td><td>-5.315190  </td><td>0          </td><td>-0.90450169</td><td>0.2006712  </td></tr>\n",
       "\t<tr><td>10         </td><td>-8.606020  </td><td>0.9012099  </td><td>0.02433735 </td><td>0.02137464 </td><td>-0.09092966</td><td>-5.266930  </td><td>0          </td><td>-0.39150588</td><td>0.4433533  </td></tr>\n",
       "</tbody>\n",
       "</table>\n"
      ],
      "text/latex": [
       "\\begin{tabular}{r|llllllllll}\n",
       " folds & intercept & alcden & sulfconc & residual.sugar & fixed.acidity & volatile.acidity & citric.acid & chlorides & pH\\\\\n",
       "\\hline\n",
       "\t  1          & -8.779664   & 0.9172427   & 0.02580654  & 0.01633921  & -0.09301512 & -5.101515   & 0           &  0.00000000 & 0.4170566  \\\\\n",
       "\t  2          & -8.553642   & 0.9095637   & 0.02531757  & 0.02306164  & -0.09996637 & -5.117130   & 0           & -1.08177817 & 0.3928269  \\\\\n",
       "\t  3          & -8.721891   & 0.9272725   & 0.02240811  & 0.02617407  & -0.06588012 & -5.394307   & 0           & -0.22180318 & 0.3487465  \\\\\n",
       "\t  4          & -9.089743   & 0.9157652   & 0.02129844  & 0.02401469  & -0.10058415 & -5.204501   & 0           & -0.22245146 & 0.5694414  \\\\\n",
       "\t  5          & -9.001919   & 0.8983083   & 0.02365347  & 0.02512616  & -0.08765772 & -5.137317   & 0           & -1.56654939 & 0.5529323  \\\\\n",
       "\t  6          & -9.281812   & 0.9311744   & 0.02966912  & 0.02690877  & -0.07980084 & -5.086883   & 0           & -0.65333142 & 0.4560408  \\\\\n",
       "\t  7          & -8.572844   & 0.9506698   & 0.02223334  & 0.02559904  & -0.10122389 & -5.367071   & 0           &  0.00000000 & 0.2996486  \\\\\n",
       "\t  8          & -9.087937   & 0.9219633   & 0.02362938  & 0.02125047  & -0.08804421 & -5.467927   & 0           & -0.01305913 & 0.5278756  \\\\\n",
       "\t  9          & -7.784105   & 0.9182348   & 0.02138886  & 0.02246420  & -0.11388767 & -5.315190   & 0           & -0.90450169 & 0.2006712  \\\\\n",
       "\t 10          & -8.606020   & 0.9012099   & 0.02433735  & 0.02137464  & -0.09092966 & -5.266930   & 0           & -0.39150588 & 0.4433533  \\\\\n",
       "\\end{tabular}\n"
      ],
      "text/markdown": [
       "\n",
       "folds | intercept | alcden | sulfconc | residual.sugar | fixed.acidity | volatile.acidity | citric.acid | chlorides | pH | \n",
       "|---|---|---|---|---|---|---|---|---|---|\n",
       "|  1          | -8.779664   | 0.9172427   | 0.02580654  | 0.01633921  | -0.09301512 | -5.101515   | 0           |  0.00000000 | 0.4170566   | \n",
       "|  2          | -8.553642   | 0.9095637   | 0.02531757  | 0.02306164  | -0.09996637 | -5.117130   | 0           | -1.08177817 | 0.3928269   | \n",
       "|  3          | -8.721891   | 0.9272725   | 0.02240811  | 0.02617407  | -0.06588012 | -5.394307   | 0           | -0.22180318 | 0.3487465   | \n",
       "|  4          | -9.089743   | 0.9157652   | 0.02129844  | 0.02401469  | -0.10058415 | -5.204501   | 0           | -0.22245146 | 0.5694414   | \n",
       "|  5          | -9.001919   | 0.8983083   | 0.02365347  | 0.02512616  | -0.08765772 | -5.137317   | 0           | -1.56654939 | 0.5529323   | \n",
       "|  6          | -9.281812   | 0.9311744   | 0.02966912  | 0.02690877  | -0.07980084 | -5.086883   | 0           | -0.65333142 | 0.4560408   | \n",
       "|  7          | -8.572844   | 0.9506698   | 0.02223334  | 0.02559904  | -0.10122389 | -5.367071   | 0           |  0.00000000 | 0.2996486   | \n",
       "|  8          | -9.087937   | 0.9219633   | 0.02362938  | 0.02125047  | -0.08804421 | -5.467927   | 0           | -0.01305913 | 0.5278756   | \n",
       "|  9          | -7.784105   | 0.9182348   | 0.02138886  | 0.02246420  | -0.11388767 | -5.315190   | 0           | -0.90450169 | 0.2006712   | \n",
       "| 10          | -8.606020   | 0.9012099   | 0.02433735  | 0.02137464  | -0.09092966 | -5.266930   | 0           | -0.39150588 | 0.4433533   | \n",
       "\n",
       "\n"
      ],
      "text/plain": [
       "   folds intercept alcden    sulfconc   residual.sugar fixed.acidity\n",
       "1   1    -8.779664 0.9172427 0.02580654 0.01633921     -0.09301512  \n",
       "2   2    -8.553642 0.9095637 0.02531757 0.02306164     -0.09996637  \n",
       "3   3    -8.721891 0.9272725 0.02240811 0.02617407     -0.06588012  \n",
       "4   4    -9.089743 0.9157652 0.02129844 0.02401469     -0.10058415  \n",
       "5   5    -9.001919 0.8983083 0.02365347 0.02512616     -0.08765772  \n",
       "6   6    -9.281812 0.9311744 0.02966912 0.02690877     -0.07980084  \n",
       "7   7    -8.572844 0.9506698 0.02223334 0.02559904     -0.10122389  \n",
       "8   8    -9.087937 0.9219633 0.02362938 0.02125047     -0.08804421  \n",
       "9   9    -7.784105 0.9182348 0.02138886 0.02246420     -0.11388767  \n",
       "10 10    -8.606020 0.9012099 0.02433735 0.02137464     -0.09092966  \n",
       "   volatile.acidity citric.acid chlorides   pH       \n",
       "1  -5.101515        0            0.00000000 0.4170566\n",
       "2  -5.117130        0           -1.08177817 0.3928269\n",
       "3  -5.394307        0           -0.22180318 0.3487465\n",
       "4  -5.204501        0           -0.22245146 0.5694414\n",
       "5  -5.137317        0           -1.56654939 0.5529323\n",
       "6  -5.086883        0           -0.65333142 0.4560408\n",
       "7  -5.367071        0            0.00000000 0.2996486\n",
       "8  -5.467927        0           -0.01305913 0.5278756\n",
       "9  -5.315190        0           -0.90450169 0.2006712\n",
       "10 -5.266930        0           -0.39150588 0.4433533"
      ]
     },
     "metadata": {},
     "output_type": "display_data"
    }
   ],
   "source": [
    "#display the coefficients of each fold\n",
    "lassocoeff <- data.frame(cbind(\"folds\" = 1:10, intercept, alcden, sulfconc,\n",
    "                               residual.sugar, fixed.acidity, volatile.acidity,\n",
    "                              citric.acid, chlorides, pH))\n",
    "lassocoeff"
   ]
  },
  {
   "cell_type": "markdown",
   "metadata": {},
   "source": [
    "An interesting thing to point out in the coefficient table is that lasso regression has zerod out the citric.acid coefficient in all models, and in some models it has zerod out the chlorides.  This is different from the ridge regression which kept all of the coefficients in.  The final variables chosen by lasso regression are:\n",
    "- alcden\n",
    "- sulfconc\n",
    "- residual.sugar\n",
    "- fixed.acidity\n",
    "- volatile.acidity\n",
    "- chlorides\n",
    "- pH"
   ]
  },
  {
   "cell_type": "code",
   "execution_count": 43,
   "metadata": {},
   "outputs": [
    {
     "data": {
      "text/html": [
       "<table>\n",
       "<thead><tr><th scope=col>folds</th><th scope=col>precision</th><th scope=col>recall</th><th scope=col>accuracy</th><th scope=col>fmeasure</th></tr></thead>\n",
       "<tbody>\n",
       "\t<tr><td> 1       </td><td>0.7913043</td><td>0.8792271</td><td>0.7675159</td><td>0.8329519</td></tr>\n",
       "\t<tr><td> 2       </td><td>0.7953668</td><td>0.8879310</td><td>0.7676471</td><td>0.8391039</td></tr>\n",
       "\t<tr><td> 3       </td><td>0.7644928</td><td>0.9173913</td><td>0.7579251</td><td>0.8339921</td></tr>\n",
       "\t<tr><td> 4       </td><td>0.7717842</td><td>0.9029126</td><td>0.7564935</td><td>0.8322148</td></tr>\n",
       "\t<tr><td> 5       </td><td>0.8423423</td><td>0.8311111</td><td>0.7746914</td><td>0.8366890</td></tr>\n",
       "\t<tr><td> 6       </td><td>0.7909836</td><td>0.8577778</td><td>0.7430341</td><td>0.8230277</td></tr>\n",
       "\t<tr><td> 7       </td><td>0.7379913</td><td>0.8203883</td><td>0.7121662</td><td>0.7770115</td></tr>\n",
       "\t<tr><td> 8       </td><td>0.7875000</td><td>0.8630137</td><td>0.7507692</td><td>0.8235294</td></tr>\n",
       "\t<tr><td> 9       </td><td>0.8093385</td><td>0.9203540</td><td>0.7969697</td><td>0.8612836</td></tr>\n",
       "\t<tr><td>10       </td><td>0.7298387</td><td>0.9004975</td><td>0.7387387</td><td>0.8062361</td></tr>\n",
       "</tbody>\n",
       "</table>\n"
      ],
      "text/latex": [
       "\\begin{tabular}{r|lllll}\n",
       " folds & precision & recall & accuracy & fmeasure\\\\\n",
       "\\hline\n",
       "\t  1        & 0.7913043 & 0.8792271 & 0.7675159 & 0.8329519\\\\\n",
       "\t  2        & 0.7953668 & 0.8879310 & 0.7676471 & 0.8391039\\\\\n",
       "\t  3        & 0.7644928 & 0.9173913 & 0.7579251 & 0.8339921\\\\\n",
       "\t  4        & 0.7717842 & 0.9029126 & 0.7564935 & 0.8322148\\\\\n",
       "\t  5        & 0.8423423 & 0.8311111 & 0.7746914 & 0.8366890\\\\\n",
       "\t  6        & 0.7909836 & 0.8577778 & 0.7430341 & 0.8230277\\\\\n",
       "\t  7        & 0.7379913 & 0.8203883 & 0.7121662 & 0.7770115\\\\\n",
       "\t  8        & 0.7875000 & 0.8630137 & 0.7507692 & 0.8235294\\\\\n",
       "\t  9        & 0.8093385 & 0.9203540 & 0.7969697 & 0.8612836\\\\\n",
       "\t 10        & 0.7298387 & 0.9004975 & 0.7387387 & 0.8062361\\\\\n",
       "\\end{tabular}\n"
      ],
      "text/markdown": [
       "\n",
       "folds | precision | recall | accuracy | fmeasure | \n",
       "|---|---|---|---|---|---|---|---|---|---|\n",
       "|  1        | 0.7913043 | 0.8792271 | 0.7675159 | 0.8329519 | \n",
       "|  2        | 0.7953668 | 0.8879310 | 0.7676471 | 0.8391039 | \n",
       "|  3        | 0.7644928 | 0.9173913 | 0.7579251 | 0.8339921 | \n",
       "|  4        | 0.7717842 | 0.9029126 | 0.7564935 | 0.8322148 | \n",
       "|  5        | 0.8423423 | 0.8311111 | 0.7746914 | 0.8366890 | \n",
       "|  6        | 0.7909836 | 0.8577778 | 0.7430341 | 0.8230277 | \n",
       "|  7        | 0.7379913 | 0.8203883 | 0.7121662 | 0.7770115 | \n",
       "|  8        | 0.7875000 | 0.8630137 | 0.7507692 | 0.8235294 | \n",
       "|  9        | 0.8093385 | 0.9203540 | 0.7969697 | 0.8612836 | \n",
       "| 10        | 0.7298387 | 0.9004975 | 0.7387387 | 0.8062361 | \n",
       "\n",
       "\n"
      ],
      "text/plain": [
       "   folds precision recall    accuracy  fmeasure \n",
       "1   1    0.7913043 0.8792271 0.7675159 0.8329519\n",
       "2   2    0.7953668 0.8879310 0.7676471 0.8391039\n",
       "3   3    0.7644928 0.9173913 0.7579251 0.8339921\n",
       "4   4    0.7717842 0.9029126 0.7564935 0.8322148\n",
       "5   5    0.8423423 0.8311111 0.7746914 0.8366890\n",
       "6   6    0.7909836 0.8577778 0.7430341 0.8230277\n",
       "7   7    0.7379913 0.8203883 0.7121662 0.7770115\n",
       "8   8    0.7875000 0.8630137 0.7507692 0.8235294\n",
       "9   9    0.8093385 0.9203540 0.7969697 0.8612836\n",
       "10 10    0.7298387 0.9004975 0.7387387 0.8062361"
      ]
     },
     "metadata": {},
     "output_type": "display_data"
    }
   ],
   "source": [
    "#create a model-comparison table using accuracy, precision, recall and fmeasure\n",
    "lassoresults <- data.frame(cbind(\"folds\" = 1:10, precision, recall, accuracy, fmeasure))\n",
    "lassoresults"
   ]
  },
  {
   "cell_type": "code",
   "execution_count": 47,
   "metadata": {},
   "outputs": [
    {
     "data": {
      "image/png": "[encoded data removed]",
      "text/plain": [
       "Plot with title \"ROC Comparison Curve for Lasso Regression\""
      ]
     },
     "metadata": {},
     "output_type": "display_data"
    }
   ],
   "source": [
    "#Create the ROC curve to demonstrate true prediction rate vs false prediction rate for the cross validated Ridge Regression models\n",
    "ROClassopred = prediction(probabilities, actuals)\n",
    "ROClassoperf = performance(ROClassopred, measure = \"tpr\", x.measure = \"fpr\")\n",
    "\n",
    "plot(ROClassoperf, main=\"ROC Comparison Curve for Lasso Regression\", colorize=TRUE)\n",
    "abline(a=0, b=1)"
   ]
  },
  {
   "cell_type": "code",
   "execution_count": 48,
   "metadata": {},
   "outputs": [
    {
     "data": {
      "text/html": [
       "0.80940702445581"
      ],
      "text/latex": [
       "0.80940702445581"
      ],
      "text/markdown": [
       "0.80940702445581"
      ],
      "text/plain": [
       "[1] 0.809407"
      ]
     },
     "metadata": {},
     "output_type": "display_data"
    }
   ],
   "source": [
    "ROClassoperf = performance(ROClassopred, measure = \"auc\")\n",
    "mean(as.numeric(ROClassoperf@y.values))"
   ]
  },
  {
   "cell_type": "markdown",
   "metadata": {},
   "source": [
    "__Final Lasso Regression Model__\n",
    "\n",
    "We can use an average of the performance of the model over the k-fold cross validation to estimate performance of the final model using a t-test."
   ]
  },
  {
   "cell_type": "code",
   "execution_count": 49,
   "metadata": {},
   "outputs": [
    {
     "data": {
      "text/plain": [
       "$precision\n",
       "\n",
       "\tOne Sample t-test\n",
       "\n",
       "data:  x\n",
       "t = 74.823, df = 9, p-value = 0.00000000000006882\n",
       "alternative hypothesis: true mean is not equal to 0\n",
       "95 percent confidence interval:\n",
       " 0.7584488 0.8057397\n",
       "sample estimates:\n",
       "mean of x \n",
       "0.7820943 \n",
       "\n",
       "\n",
       "$recall\n",
       "\n",
       "\tOne Sample t-test\n",
       "\n",
       "data:  x\n",
       "t = 80.441, df = 9, p-value = 0.0000000000000359\n",
       "alternative hypothesis: true mean is not equal to 0\n",
       "95 percent confidence interval:\n",
       " 0.8533676 0.9027533\n",
       "sample estimates:\n",
       "mean of x \n",
       "0.8780604 \n",
       "\n",
       "\n",
       "$accuracy\n",
       "\n",
       "\tOne Sample t-test\n",
       "\n",
       "data:  x\n",
       "t = 104.57, df = 9, p-value = 0.000000000000003394\n",
       "alternative hypothesis: true mean is not equal to 0\n",
       "95 percent confidence interval:\n",
       " 0.7402278 0.7729624\n",
       "sample estimates:\n",
       "mean of x \n",
       "0.7565951 \n",
       "\n",
       "\n",
       "$fmeasure\n",
       "\n",
       "\tOne Sample t-test\n",
       "\n",
       "data:  x\n",
       "t = 117.11, df = 9, p-value = 0.000000000000001225\n",
       "alternative hypothesis: true mean is not equal to 0\n",
       "95 percent confidence interval:\n",
       " 0.8106375 0.8425705\n",
       "sample estimates:\n",
       "mean of x \n",
       " 0.826604 \n",
       "\n"
      ]
     },
     "metadata": {},
     "output_type": "display_data"
    }
   ],
   "source": [
    "lapply(lassoresults[,-1], function(x) t.test(x))"
   ]
  },
  {
   "cell_type": "markdown",
   "metadata": {},
   "source": [
    "Our final model as chosen by lasso regression can be represented as follows:\n",
    "final.lasso = quality ~ alcden + fixed.acidity + volatile.acidity + sulfconc + residual.sugar + chlorides + pH\n",
    "\n",
    "Where alcden is the combined alcohol and density values and sulfconc is the ratio of free sulfur dioxide to total sulfur dioxide.\n",
    "\n",
    "This model showed the following performance measures in cross validation against the training data only:\n",
    "\n",
    "Accuracy: 75.6% (74.0% to 77.3% confidence interval)\n",
    "Precision: 78.2% (75.8% to 80.6% confidence interval)\n",
    "Recall: 87.8% (85.3% to 90.3% confidence interval)\n",
    "Fmeasure: 83.7% (81.1% to 84.3% confidence interval)\n",
    "\n",
    "The ROC curves for the cross-validation gave an average AUC (Area under curve) of 80.1%"
   ]
  },
  {
   "cell_type": "markdown",
   "metadata": {},
   "source": [
    "## Final Model Comparison"
   ]
  },
  {
   "cell_type": "markdown",
   "metadata": {},
   "source": [
    "Now we can test our 3 models using the test data to see which one is best!  First step is to add our engineered features to the test data.  We will be testing the following three models:\n",
    "- wine.stepfinal\n",
    "- wine.ridge\n",
    "- wine.lasso\n",
    "\n",
    "We will train the models using the full training set, and then use the trained models to predict the test set."
   ]
  },
  {
   "cell_type": "code",
   "execution_count": 59,
   "metadata": {
    "collapsed": true
   },
   "outputs": [],
   "source": [
    "#add the engineered data features to the test set\n",
    "test$sulfconc = test$free.sulfur.dioxide/test$total.sulfur.dioxide*100\n",
    "test$alcden = test$density*test$alcohol\n",
    "\n",
    "#restrict the testing data set to the features chosen during model development\n",
    "trainx = model.matrix(quality ~ alcden+sulfconc+residual.sugar+fixed.acidity+volatile.acidity+citric.acid+chlorides+pH\n",
    "               ,train)[,-1]\n",
    "\n",
    "testx = model.matrix(quality ~ alcden+sulfconc+residual.sugar+fixed.acidity+volatile.acidity+citric.acid+chlorides+pH\n",
    "               ,test)[,-1]\n"
   ]
  },
  {
   "cell_type": "code",
   "execution_count": 60,
   "metadata": {
    "collapsed": true
   },
   "outputs": [],
   "source": [
    "#train our models using the full training set\n",
    "wine.stepfinal <- glm(quality ~ alcden+volatile.acidity+sulfconc+residual.sugar+fixed.acidity+pH, \n",
    "                      data=train, family=binomial(link = 'logit'))\n",
    "\n",
    "wine.ridge <- glmnet(trainx, train$quality, family = \"binomial\", alpha = 0, lambda = ridgelambda)\n",
    "\n",
    "wine.lasso <- glmnet(trainx, train$quality, family = \"binomial\", alpha = 1, lambda = lassolambda)"
   ]
  },
  {
   "cell_type": "code",
   "execution_count": 52,
   "metadata": {
    "collapsed": true
   },
   "outputs": [],
   "source": [
    "#use our models to predict the wine quality for the testing data set\n",
    "stepwisepreds <- as.vector(ifelse(predict(wine.stepfinal, test[,-12], type = \"response\") < 0.5, \"bad\", \"good\"))\n",
    "stepwiseprobs <- as.vector(predict(wine.stepfinal, test[,-12], type = \"response\"))\n",
    "\n",
    "ridgepreds <- as.vector(ifelse(predict(wine.ridge, testx, type = \"response\")  <0.5, \"bad\", \"good\"))\n",
    "ridgeprobs <- as.vector(predict(wine.ridge, testx, type = \"response\"))\n",
    "\n",
    "lassopreds <- as.vector(ifelse(predict(wine.lasso, testx, type = \"response\")  <0.5, \"bad\", \"good\"))\n",
    "lassoprobs <- as.vector(predict(wine.lasso, testx, type = \"response\"))\n",
    "\n",
    "predslist <- list(stepwisepreds,ridgepreds,lassopreds)\n",
    "probslist <- list(stepwiseprobs, ridgeprobs, lassoprobs)"
   ]
  },
  {
   "cell_type": "code",
   "execution_count": 53,
   "metadata": {},
   "outputs": [
    {
     "data": {
      "text/html": [
       "<dl class=dl-horizontal>\n",
       "\t<dt>(Intercept)</dt>\n",
       "\t\t<dd>-11.404553127974</dd>\n",
       "\t<dt>alcden</dt>\n",
       "\t\t<dd>1.08753845851232</dd>\n",
       "\t<dt>volatile.acidity</dt>\n",
       "\t\t<dd>-6.3878335983842</dd>\n",
       "\t<dt>sulfconc</dt>\n",
       "\t\t<dd>0.0291104498876465</dd>\n",
       "\t<dt>residual.sugar</dt>\n",
       "\t\t<dd>0.0525200240682883</dd>\n",
       "\t<dt>fixed.acidity</dt>\n",
       "\t\t<dd>-0.152699451010287</dd>\n",
       "\t<dt>pH</dt>\n",
       "\t\t<dd>0.843333341703682</dd>\n",
       "</dl>\n"
      ],
      "text/latex": [
       "\\begin{description*}\n",
       "\\item[(Intercept)] -11.404553127974\n",
       "\\item[alcden] 1.08753845851232\n",
       "\\item[volatile.acidity] -6.3878335983842\n",
       "\\item[sulfconc] 0.0291104498876465\n",
       "\\item[residual.sugar] 0.0525200240682883\n",
       "\\item[fixed.acidity] -0.152699451010287\n",
       "\\item[pH] 0.843333341703682\n",
       "\\end{description*}\n"
      ],
      "text/markdown": [
       "(Intercept)\n",
       ":   -11.404553127974alcden\n",
       ":   1.08753845851232volatile.acidity\n",
       ":   -6.3878335983842sulfconc\n",
       ":   0.0291104498876465residual.sugar\n",
       ":   0.0525200240682883fixed.acidity\n",
       ":   -0.152699451010287pH\n",
       ":   0.843333341703682\n",
       "\n"
      ],
      "text/plain": [
       "     (Intercept)           alcden volatile.acidity         sulfconc \n",
       "    -11.40455313       1.08753846      -6.38783360       0.02911045 \n",
       "  residual.sugar    fixed.acidity               pH \n",
       "      0.05252002      -0.15269945       0.84333334 "
      ]
     },
     "metadata": {},
     "output_type": "display_data"
    }
   ],
   "source": [
    "#compare their coefficients\n",
    "coef(wine.stepfinal)"
   ]
  },
  {
   "cell_type": "code",
   "execution_count": 54,
   "metadata": {},
   "outputs": [
    {
     "data": {
      "text/plain": [
       "9 x 1 sparse Matrix of class \"dgCMatrix\"\n",
       "                          s0\n",
       "(Intercept)      -8.75197229\n",
       "alcden            0.83545521\n",
       "sulfconc          0.02761693\n",
       "residual.sugar    0.02666384\n",
       "fixed.acidity    -0.14620841\n",
       "volatile.acidity -5.03205250\n",
       "citric.acid       0.40008226\n",
       "chlorides        -4.17440547\n",
       "pH                0.76524293"
      ]
     },
     "metadata": {},
     "output_type": "display_data"
    }
   ],
   "source": [
    "coef(wine.ridge)"
   ]
  },
  {
   "cell_type": "code",
   "execution_count": 55,
   "metadata": {},
   "outputs": [
    {
     "data": {
      "text/plain": [
       "9 x 1 sparse Matrix of class \"dgCMatrix\"\n",
       "                          s0\n",
       "(Intercept)      -8.75473216\n",
       "alcden            0.91935857\n",
       "sulfconc          0.02394058\n",
       "residual.sugar    0.02327022\n",
       "fixed.acidity    -0.09211202\n",
       "volatile.acidity -5.24600924\n",
       "citric.acid       .         \n",
       "chlorides        -0.44133062\n",
       "pH                0.42144860"
      ]
     },
     "metadata": {},
     "output_type": "display_data"
    }
   ],
   "source": [
    "coef(wine.lasso)"
   ]
  },
  {
   "cell_type": "code",
   "execution_count": 56,
   "metadata": {},
   "outputs": [
    {
     "data": {
      "text/html": [
       "<table>\n",
       "<thead><tr><th scope=col>V1</th><th scope=col>precision</th><th scope=col>recall</th><th scope=col>accuracy</th><th scope=col>fmeasure</th></tr></thead>\n",
       "<tbody>\n",
       "\t<tr><td>stepwise         </td><td>0.732673267326733</td><td>0.850574712643678</td><td>0.705014749262537</td><td>0.787234042553191</td></tr>\n",
       "\t<tr><td>ridge            </td><td>0.71939736346516 </td><td>0.87816091954023 </td><td>0.702064896755162</td><td>0.790890269151139</td></tr>\n",
       "\t<tr><td>lasso            </td><td>0.726053639846743</td><td>0.871264367816092</td><td>0.706489675516224</td><td>0.792058516196447</td></tr>\n",
       "</tbody>\n",
       "</table>\n"
      ],
      "text/latex": [
       "\\begin{tabular}{r|lllll}\n",
       " V1 & precision & recall & accuracy & fmeasure\\\\\n",
       "\\hline\n",
       "\t stepwise          & 0.732673267326733 & 0.850574712643678 & 0.705014749262537 & 0.787234042553191\\\\\n",
       "\t ridge             & 0.71939736346516  & 0.87816091954023  & 0.702064896755162 & 0.790890269151139\\\\\n",
       "\t lasso             & 0.726053639846743 & 0.871264367816092 & 0.706489675516224 & 0.792058516196447\\\\\n",
       "\\end{tabular}\n"
      ],
      "text/markdown": [
       "\n",
       "V1 | precision | recall | accuracy | fmeasure | \n",
       "|---|---|---|\n",
       "| stepwise          | 0.732673267326733 | 0.850574712643678 | 0.705014749262537 | 0.787234042553191 | \n",
       "| ridge             | 0.71939736346516  | 0.87816091954023  | 0.702064896755162 | 0.790890269151139 | \n",
       "| lasso             | 0.726053639846743 | 0.871264367816092 | 0.706489675516224 | 0.792058516196447 | \n",
       "\n",
       "\n"
      ],
      "text/plain": [
       "  V1       precision         recall            accuracy         \n",
       "1 stepwise 0.732673267326733 0.850574712643678 0.705014749262537\n",
       "2 ridge    0.71939736346516  0.87816091954023  0.702064896755162\n",
       "3 lasso    0.726053639846743 0.871264367816092 0.706489675516224\n",
       "  fmeasure         \n",
       "1 0.787234042553191\n",
       "2 0.790890269151139\n",
       "3 0.792058516196447"
      ]
     },
     "metadata": {},
     "output_type": "display_data"
    }
   ],
   "source": [
    "#build a model comparison table\n",
    "accuracy <- vector()\n",
    "precision <- vector()\n",
    "recall <- vector()\n",
    "fmeasure <- vector()\n",
    "actuals <- list()\n",
    "\n",
    "#loop through the models and collect the model performance measures\n",
    "for (j in 1:3){\n",
    "    cm <- confusionMatrix(predslist[[j]],test$quality)\n",
    "    actuals[[j]] <- test$quality\n",
    "    accuracy[j] <- cm$overall['Accuracy']\n",
    "    precision[j] <- cm$table[2, 2] / sum(cm$table[2,])\n",
    "    recall[j] <- cm$table[2, 2] / sum(cm$table[,2]) \n",
    "    fmeasure[j] <- 2 * precision[[j]] * recall[[j]] / (precision[[j]] + recall[[j]]) #f-measure\n",
    "    }\n",
    "    \n",
    "#create a data frame summarising the model performance measures\n",
    "overallresults <- data.frame(cbind(c('stepwise','ridge','lasso'), precision, recall, accuracy, fmeasure))\n",
    "overallresults\n"
   ]
  },
  {
   "cell_type": "code",
   "execution_count": 57,
   "metadata": {},
   "outputs": [
    {
     "data": {
      "image/png": "[encoded data removed]",
      "text/plain": [
       "Plot with title \"ROC Comparison Curve for Ridge Regression\""
      ]
     },
     "metadata": {},
     "output_type": "display_data"
    }
   ],
   "source": [
    "#Create the ROC curves for the final model performance measures\n",
    "manypred = prediction(probslist, actuals)\n",
    "many.roc.perf = performance(manypred, measure = \"tpr\", x.measure = \"fpr\")\n",
    "\n",
    "plot(many.roc.perf, main=\"ROC Comparison Curve for All Models\", colorize=TRUE)\n",
    "abline(a=0, b=1)"
   ]
  },
  {
   "cell_type": "code",
   "execution_count": 58,
   "metadata": {},
   "outputs": [
    {
     "data": {
      "text/html": [
       "<ol>\n",
       "\t<li>0.762546710184001</li>\n",
       "\t<li>0.763795468520882</li>\n",
       "\t<li>0.762045314791163</li>\n",
       "</ol>\n"
      ],
      "text/latex": [
       "\\begin{enumerate}\n",
       "\\item 0.762546710184001\n",
       "\\item 0.763795468520882\n",
       "\\item 0.762045314791163\n",
       "\\end{enumerate}\n"
      ],
      "text/markdown": [
       "1. 0.762546710184001\n",
       "2. 0.763795468520882\n",
       "3. 0.762045314791163\n",
       "\n",
       "\n"
      ],
      "text/plain": [
       "[[1]]\n",
       "[1] 0.7625467\n",
       "\n",
       "[[2]]\n",
       "[1] 0.7637955\n",
       "\n",
       "[[3]]\n",
       "[1] 0.7620453\n"
      ]
     },
     "metadata": {},
     "output_type": "display_data"
    }
   ],
   "source": [
    "#Calculate the final AUC\n",
    "manypauc.perf = performance(manypred, measure = \"auc\")\n",
    "manypauc.perf@y.values"
   ]
  },
  {
   "cell_type": "markdown",
   "metadata": {},
   "source": [
    "When comparing the final three models using the test data, the accuracy of the models from the training set decreased slightly and the area under the curve also decreased.  This could be due to outliers in the test data.  Let's have a quick look at the cooks distance of the test data to see if outliers is causing the decrease in performance.  We will use the stepwise regression model to check the cooks.distance."
   ]
  },
  {
   "cell_type": "code",
   "execution_count": 67,
   "metadata": {},
   "outputs": [
    {
     "data": {
      "image/png": "[encoded data removed]",
      "text/plain": [
       "Plot with title \"Potential influential outliers by Cooks distance (Test data)\""
      ]
     },
     "metadata": {},
     "output_type": "display_data"
    }
   ],
   "source": [
    "#code sourced from https://www.r-bloggers.com/outlier-detection-and-treatment-with-r/\n",
    "mod <- glm(quality ~ alcden+volatile.acidity+sulfconc+residual.sugar+fixed.acidity+pH, \n",
    "                      data=test, family=binomial(link = 'logit'))\n",
    "cooksd <- cooks.distance(mod)\n",
    "\n",
    "plot(cooksd, pch=\"*\", cex=2, main=\"Potential influential outliers by Cooks distance (Test data)\")  # plot cook's distance\n",
    "text(x=1:length(cooksd)+1, y=cooksd)  # add labels"
   ]
  },
  {
   "cell_type": "markdown",
   "metadata": {},
   "source": [
    "When compared to our initial cooks distance plot, which only was showing cooks distances up to approximately 0.017, there are approximately 5 values above this in the test data.  This could explain why our model prediction rates went down.\n",
    "\n",
    "All three models show very similar performance measures, with accuracy being highest with the lasso model, fmeasure being highest on the ridge model and with AUC being highest on the ridge model.\n",
    "\n",
    "Stepwise regression chose 6 variables for the final model, but was only showing a good cross-validation after feature-engingeering had been performed based on information about wine chemistry.\n",
    "\n",
    "Ridge regression chose all 8 engineered features for the final model.\n",
    "\n",
    "Lasso regression chose 7 features for the final model.\n",
    "\n",
    "Based on simplicity and ease of only having to collect 6 variables for as accurate predictions, I would choose Stepwise regression as the best model to use for prediction."
   ]
  },
  {
   "cell_type": "markdown",
   "metadata": {},
   "source": [
    "## Summary"
   ]
  },
  {
   "cell_type": "markdown",
   "metadata": {},
   "source": [
    " In this notebook we:\n",
    " 1. Performed some research into wine chemistry using the resources listed below.\n",
    " 2. Did a small data exploration: checked data structures and looked at the summary statistics and distributions\n",
    " 3. Detected outliers using cooks distance and general logistic models\n",
    " 4. Performed feature engineering by turning free.sulfur.dioxide and total.sulfur.dioxide into a concentrated volume based on research about wine chemicals.\n",
    " 5. Performed feature engineering by combining alcohol and density as a correlated value.\n",
    " 6. Cross validated a stepwise regression method of choosing data features to settle on a final stepwise regression model containing 6 data features.  Cross validated this again on the training set.\n",
    " 7. Tuned (cross-validated) a lambda value for Ridge regression and built a ridge regression model that was cross validated against the training set.  This model used 8 features.\n",
    " 8. Tuned (cross-validated) a lambda value for Lasso regression and built a lasso regression model that was cross validated against the training set.  This model used 7 features.\n",
    " 9. Tested the final three models against the test set provided.\n",
    " 10. Chose the stepwise regression as the \"best\" model as it only uses 6 variables for the same accuracy in predictions as the other two models.\n",
    " \n",
    "Improvements could be made to this model to explain the variance.  The main data point missing from this data set is the colour of the wines (red, white, rose).  I believe that the variance in the alcohol variable is not properly explained by any other variable in the set, and that if the data was separated by colour of wine, or grape used, then the results would be different and the models more accurate!\n",
    "\n",
    "Thanks for reading, and well done for reaching the bottom of this massive notebook!"
   ]
  },
  {
   "cell_type": "markdown",
   "metadata": {},
   "source": [
    "## References\n",
    "\n",
    "__Wine References__\n",
    "> Acids in wine. (2017, August 31). Retrieved September 02, 2017, from https://en.wikipedia.org/wiki/Acids_in_wine\n",
    "\n",
    "> The Australian Wine Research Institute. (n.d.). Retrieved September 03, 2017, from https://www.awri.com.au/ \n",
    "\n",
    "> University of California (2004). Waterhouse Lab - What's in Wine. Retrieved September 02, 2017, from http://waterhouse.ucdavis.edu/whats-in-wine/\n",
    "\n",
    "__R references__\n",
    "> https://www.r-bloggers.com/a-small-introduction-to-the-rocr-package/\n",
    "\n",
    "> https://www.r-bloggers.com/outlier-detection-and-treatment-with-r/\n",
    "\n",
    "> Friedman, Hastie and Tibshirani (2010).  Regularization Paths for Generalized Linear Models via Coordinate Descent.  Journal of Statistical Software.  Volume 33, Issue 1."
   ]
  },
  {
   "cell_type": "code",
   "execution_count": null,
   "metadata": {
    "collapsed": true
   },
   "outputs": [],
   "source": []
  }
 ],
 "metadata": {
  "kernelspec": {
   "display_name": "R",
   "language": "R",
   "name": "ir"
  },
  "language_info": {
   "codemirror_mode": "r",
   "file_extension": ".r",
   "mimetype": "text/x-r-source",
   "name": "R",
   "pygments_lexer": "r",
   "version": "3.4.1"
  }
 },
 "nbformat": 4,
 "nbformat_minor": 2
}
